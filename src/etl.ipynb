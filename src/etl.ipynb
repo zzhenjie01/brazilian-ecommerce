{
 "cells": [
  {
   "cell_type": "markdown",
   "id": "18592742",
   "metadata": {},
   "source": [
    "# Brazilian E-Commerce Dataset ETL"
   ]
  },
  {
   "cell_type": "code",
   "execution_count": 41,
   "id": "a1234148",
   "metadata": {},
   "outputs": [],
   "source": [
    "import pandas as pd\n",
    "import matplotlib.pyplot as plt\n",
    "\n",
    "# Load all the CSVs into DataFrames\n",
    "orders = pd.read_csv(\"../data/raw/olist_orders_dataset.csv\")\n",
    "order_reviews = pd.read_csv(\"../data/raw/olist_order_reviews_dataset.csv\")\n",
    "order_payments = pd.read_csv(\"../data/raw/olist_order_payments_dataset.csv\")\n",
    "order_items = pd.read_csv(\"../data/raw/olist_order_items_dataset.csv\")\n",
    "products = pd.read_csv(\"../data/raw/olist_products_dataset.csv\")\n",
    "sellers = pd.read_csv(\"../data/raw/olist_sellers_dataset.csv\")\n",
    "customers = pd.read_csv(\"../data/raw/olist_customers_dataset.csv\")\n",
    "geolocation = pd.read_csv(\"../data/raw/olist_geolocation_dataset.csv\")\n",
    "product_category_name_translation = pd.read_csv(\"../data/raw/product_category_name_translation.csv\")"
   ]
  },
  {
   "cell_type": "markdown",
   "id": "bc7a852c",
   "metadata": {},
   "source": [
    "## 1 Exploratory Data Analysis\n",
    "\n",
    "### 1.1 `orders` table"
   ]
  },
  {
   "cell_type": "code",
   "execution_count": null,
   "id": "8c47a6c4",
   "metadata": {},
   "outputs": [
    {
     "name": "stdout",
     "output_type": "stream",
     "text": [
      "Dataset Info:\n",
      "<class 'pandas.core.frame.DataFrame'>\n",
      "RangeIndex: 99441 entries, 0 to 99440\n",
      "Data columns (total 8 columns):\n",
      " #   Column                         Non-Null Count  Dtype \n",
      "---  ------                         --------------  ----- \n",
      " 0   order_id                       99441 non-null  object\n",
      " 1   customer_id                    99441 non-null  object\n",
      " 2   order_status                   99441 non-null  object\n",
      " 3   order_purchase_timestamp       99441 non-null  object\n",
      " 4   order_approved_at              99281 non-null  object\n",
      " 5   order_delivered_carrier_date   97658 non-null  object\n",
      " 6   order_delivered_customer_date  96476 non-null  object\n",
      " 7   order_estimated_delivery_date  99441 non-null  object\n",
      "dtypes: object(8)\n",
      "memory usage: 6.1+ MB\n",
      "\n",
      "Missing Values:\n",
      "order_id                            0\n",
      "customer_id                         0\n",
      "order_status                        0\n",
      "order_purchase_timestamp            0\n",
      "order_approved_at                 160\n",
      "order_delivered_carrier_date     1783\n",
      "order_delivered_customer_date    2965\n",
      "order_estimated_delivery_date       0\n",
      "dtype: int64\n",
      "\n",
      "Descriptive Statistics:\n"
     ]
    },
    {
     "data": {
      "application/vnd.microsoft.datawrangler.viewer.v0+json": {
       "columns": [
        {
         "name": "index",
         "rawType": "object",
         "type": "string"
        },
        {
         "name": "order_id",
         "rawType": "object",
         "type": "unknown"
        },
        {
         "name": "customer_id",
         "rawType": "object",
         "type": "unknown"
        },
        {
         "name": "order_status",
         "rawType": "object",
         "type": "unknown"
        },
        {
         "name": "order_purchase_timestamp",
         "rawType": "object",
         "type": "unknown"
        },
        {
         "name": "order_approved_at",
         "rawType": "object",
         "type": "unknown"
        },
        {
         "name": "order_delivered_carrier_date",
         "rawType": "object",
         "type": "unknown"
        },
        {
         "name": "order_delivered_customer_date",
         "rawType": "object",
         "type": "unknown"
        },
        {
         "name": "order_estimated_delivery_date",
         "rawType": "object",
         "type": "unknown"
        }
       ],
       "ref": "57527953-8868-4280-b3cf-caa6e5d9e0c2",
       "rows": [
        [
         "count",
         "99441",
         "99441",
         "99441",
         "99441",
         "99281",
         "97658",
         "96476",
         "99441"
        ],
        [
         "unique",
         "99441",
         "99441",
         "8",
         "98875",
         "90733",
         "81018",
         "95664",
         "459"
        ],
        [
         "top",
         "e481f51cbdc54678b7cc49136f2d6af7",
         "9ef432eb6251297304e76186b10a928d",
         "delivered",
         "2018-04-11 10:48:14",
         "2018-02-27 04:31:10",
         "2018-05-09 15:48:00",
         "2018-05-08 23:38:46",
         "2017-12-20 00:00:00"
        ],
        [
         "freq",
         "1",
         "1",
         "96478",
         "3",
         "9",
         "47",
         "3",
         "522"
        ]
       ],
       "shape": {
        "columns": 8,
        "rows": 4
       }
      },
      "text/html": [
       "<div>\n",
       "<style scoped>\n",
       "    .dataframe tbody tr th:only-of-type {\n",
       "        vertical-align: middle;\n",
       "    }\n",
       "\n",
       "    .dataframe tbody tr th {\n",
       "        vertical-align: top;\n",
       "    }\n",
       "\n",
       "    .dataframe thead th {\n",
       "        text-align: right;\n",
       "    }\n",
       "</style>\n",
       "<table border=\"1\" class=\"dataframe\">\n",
       "  <thead>\n",
       "    <tr style=\"text-align: right;\">\n",
       "      <th></th>\n",
       "      <th>order_id</th>\n",
       "      <th>customer_id</th>\n",
       "      <th>order_status</th>\n",
       "      <th>order_purchase_timestamp</th>\n",
       "      <th>order_approved_at</th>\n",
       "      <th>order_delivered_carrier_date</th>\n",
       "      <th>order_delivered_customer_date</th>\n",
       "      <th>order_estimated_delivery_date</th>\n",
       "    </tr>\n",
       "  </thead>\n",
       "  <tbody>\n",
       "    <tr>\n",
       "      <th>count</th>\n",
       "      <td>99441</td>\n",
       "      <td>99441</td>\n",
       "      <td>99441</td>\n",
       "      <td>99441</td>\n",
       "      <td>99281</td>\n",
       "      <td>97658</td>\n",
       "      <td>96476</td>\n",
       "      <td>99441</td>\n",
       "    </tr>\n",
       "    <tr>\n",
       "      <th>unique</th>\n",
       "      <td>99441</td>\n",
       "      <td>99441</td>\n",
       "      <td>8</td>\n",
       "      <td>98875</td>\n",
       "      <td>90733</td>\n",
       "      <td>81018</td>\n",
       "      <td>95664</td>\n",
       "      <td>459</td>\n",
       "    </tr>\n",
       "    <tr>\n",
       "      <th>top</th>\n",
       "      <td>e481f51cbdc54678b7cc49136f2d6af7</td>\n",
       "      <td>9ef432eb6251297304e76186b10a928d</td>\n",
       "      <td>delivered</td>\n",
       "      <td>2018-04-11 10:48:14</td>\n",
       "      <td>2018-02-27 04:31:10</td>\n",
       "      <td>2018-05-09 15:48:00</td>\n",
       "      <td>2018-05-08 23:38:46</td>\n",
       "      <td>2017-12-20 00:00:00</td>\n",
       "    </tr>\n",
       "    <tr>\n",
       "      <th>freq</th>\n",
       "      <td>1</td>\n",
       "      <td>1</td>\n",
       "      <td>96478</td>\n",
       "      <td>3</td>\n",
       "      <td>9</td>\n",
       "      <td>47</td>\n",
       "      <td>3</td>\n",
       "      <td>522</td>\n",
       "    </tr>\n",
       "  </tbody>\n",
       "</table>\n",
       "</div>"
      ],
      "text/plain": [
       "                                order_id                       customer_id  \\\n",
       "count                              99441                             99441   \n",
       "unique                             99441                             99441   \n",
       "top     e481f51cbdc54678b7cc49136f2d6af7  9ef432eb6251297304e76186b10a928d   \n",
       "freq                                   1                                 1   \n",
       "\n",
       "       order_status order_purchase_timestamp    order_approved_at  \\\n",
       "count         99441                    99441                99281   \n",
       "unique            8                    98875                90733   \n",
       "top       delivered      2018-04-11 10:48:14  2018-02-27 04:31:10   \n",
       "freq          96478                        3                    9   \n",
       "\n",
       "       order_delivered_carrier_date order_delivered_customer_date  \\\n",
       "count                         97658                         96476   \n",
       "unique                        81018                         95664   \n",
       "top             2018-05-09 15:48:00           2018-05-08 23:38:46   \n",
       "freq                             47                             3   \n",
       "\n",
       "       order_estimated_delivery_date  \n",
       "count                          99441  \n",
       "unique                           459  \n",
       "top              2017-12-20 00:00:00  \n",
       "freq                             522  "
      ]
     },
     "execution_count": 5,
     "metadata": {},
     "output_type": "execute_result"
    }
   ],
   "source": [
    "print(\"Dataset Info:\")\n",
    "orders.info()\n",
    "print(\"\\nMissing Values:\")\n",
    "print(orders.isna().sum())\n",
    "print(\"\\nDescriptive Statistics:\")\n",
    "orders.describe()\n"
   ]
  },
  {
   "cell_type": "code",
   "execution_count": 17,
   "id": "e6e9a814",
   "metadata": {},
   "outputs": [
    {
     "name": "stdout",
     "output_type": "stream",
     "text": [
      "First 5 Rows:\n"
     ]
    },
    {
     "data": {
      "application/vnd.microsoft.datawrangler.viewer.v0+json": {
       "columns": [
        {
         "name": "index",
         "rawType": "int64",
         "type": "integer"
        },
        {
         "name": "order_id",
         "rawType": "object",
         "type": "string"
        },
        {
         "name": "customer_id",
         "rawType": "object",
         "type": "string"
        },
        {
         "name": "order_status",
         "rawType": "object",
         "type": "string"
        },
        {
         "name": "order_purchase_timestamp",
         "rawType": "object",
         "type": "string"
        },
        {
         "name": "order_approved_at",
         "rawType": "object",
         "type": "string"
        },
        {
         "name": "order_delivered_carrier_date",
         "rawType": "object",
         "type": "string"
        },
        {
         "name": "order_delivered_customer_date",
         "rawType": "object",
         "type": "string"
        },
        {
         "name": "order_estimated_delivery_date",
         "rawType": "object",
         "type": "string"
        }
       ],
       "ref": "5c50e7e3-6ab9-4f8e-a8fa-6650ffed0524",
       "rows": [
        [
         "0",
         "e481f51cbdc54678b7cc49136f2d6af7",
         "9ef432eb6251297304e76186b10a928d",
         "delivered",
         "2017-10-02 10:56:33",
         "2017-10-02 11:07:15",
         "2017-10-04 19:55:00",
         "2017-10-10 21:25:13",
         "2017-10-18 00:00:00"
        ],
        [
         "1",
         "53cdb2fc8bc7dce0b6741e2150273451",
         "b0830fb4747a6c6d20dea0b8c802d7ef",
         "delivered",
         "2018-07-24 20:41:37",
         "2018-07-26 03:24:27",
         "2018-07-26 14:31:00",
         "2018-08-07 15:27:45",
         "2018-08-13 00:00:00"
        ],
        [
         "2",
         "47770eb9100c2d0c44946d9cf07ec65d",
         "41ce2a54c0b03bf3443c3d931a367089",
         "delivered",
         "2018-08-08 08:38:49",
         "2018-08-08 08:55:23",
         "2018-08-08 13:50:00",
         "2018-08-17 18:06:29",
         "2018-09-04 00:00:00"
        ],
        [
         "3",
         "949d5b44dbf5de918fe9c16f97b45f8a",
         "f88197465ea7920adcdbec7375364d82",
         "delivered",
         "2017-11-18 19:28:06",
         "2017-11-18 19:45:59",
         "2017-11-22 13:39:59",
         "2017-12-02 00:28:42",
         "2017-12-15 00:00:00"
        ],
        [
         "4",
         "ad21c59c0840e6cb83a9ceb5573f8159",
         "8ab97904e6daea8866dbdbc4fb7aad2c",
         "delivered",
         "2018-02-13 21:18:39",
         "2018-02-13 22:20:29",
         "2018-02-14 19:46:34",
         "2018-02-16 18:17:02",
         "2018-02-26 00:00:00"
        ]
       ],
       "shape": {
        "columns": 8,
        "rows": 5
       }
      },
      "text/html": [
       "<div>\n",
       "<style scoped>\n",
       "    .dataframe tbody tr th:only-of-type {\n",
       "        vertical-align: middle;\n",
       "    }\n",
       "\n",
       "    .dataframe tbody tr th {\n",
       "        vertical-align: top;\n",
       "    }\n",
       "\n",
       "    .dataframe thead th {\n",
       "        text-align: right;\n",
       "    }\n",
       "</style>\n",
       "<table border=\"1\" class=\"dataframe\">\n",
       "  <thead>\n",
       "    <tr style=\"text-align: right;\">\n",
       "      <th></th>\n",
       "      <th>order_id</th>\n",
       "      <th>customer_id</th>\n",
       "      <th>order_status</th>\n",
       "      <th>order_purchase_timestamp</th>\n",
       "      <th>order_approved_at</th>\n",
       "      <th>order_delivered_carrier_date</th>\n",
       "      <th>order_delivered_customer_date</th>\n",
       "      <th>order_estimated_delivery_date</th>\n",
       "    </tr>\n",
       "  </thead>\n",
       "  <tbody>\n",
       "    <tr>\n",
       "      <th>0</th>\n",
       "      <td>e481f51cbdc54678b7cc49136f2d6af7</td>\n",
       "      <td>9ef432eb6251297304e76186b10a928d</td>\n",
       "      <td>delivered</td>\n",
       "      <td>2017-10-02 10:56:33</td>\n",
       "      <td>2017-10-02 11:07:15</td>\n",
       "      <td>2017-10-04 19:55:00</td>\n",
       "      <td>2017-10-10 21:25:13</td>\n",
       "      <td>2017-10-18 00:00:00</td>\n",
       "    </tr>\n",
       "    <tr>\n",
       "      <th>1</th>\n",
       "      <td>53cdb2fc8bc7dce0b6741e2150273451</td>\n",
       "      <td>b0830fb4747a6c6d20dea0b8c802d7ef</td>\n",
       "      <td>delivered</td>\n",
       "      <td>2018-07-24 20:41:37</td>\n",
       "      <td>2018-07-26 03:24:27</td>\n",
       "      <td>2018-07-26 14:31:00</td>\n",
       "      <td>2018-08-07 15:27:45</td>\n",
       "      <td>2018-08-13 00:00:00</td>\n",
       "    </tr>\n",
       "    <tr>\n",
       "      <th>2</th>\n",
       "      <td>47770eb9100c2d0c44946d9cf07ec65d</td>\n",
       "      <td>41ce2a54c0b03bf3443c3d931a367089</td>\n",
       "      <td>delivered</td>\n",
       "      <td>2018-08-08 08:38:49</td>\n",
       "      <td>2018-08-08 08:55:23</td>\n",
       "      <td>2018-08-08 13:50:00</td>\n",
       "      <td>2018-08-17 18:06:29</td>\n",
       "      <td>2018-09-04 00:00:00</td>\n",
       "    </tr>\n",
       "    <tr>\n",
       "      <th>3</th>\n",
       "      <td>949d5b44dbf5de918fe9c16f97b45f8a</td>\n",
       "      <td>f88197465ea7920adcdbec7375364d82</td>\n",
       "      <td>delivered</td>\n",
       "      <td>2017-11-18 19:28:06</td>\n",
       "      <td>2017-11-18 19:45:59</td>\n",
       "      <td>2017-11-22 13:39:59</td>\n",
       "      <td>2017-12-02 00:28:42</td>\n",
       "      <td>2017-12-15 00:00:00</td>\n",
       "    </tr>\n",
       "    <tr>\n",
       "      <th>4</th>\n",
       "      <td>ad21c59c0840e6cb83a9ceb5573f8159</td>\n",
       "      <td>8ab97904e6daea8866dbdbc4fb7aad2c</td>\n",
       "      <td>delivered</td>\n",
       "      <td>2018-02-13 21:18:39</td>\n",
       "      <td>2018-02-13 22:20:29</td>\n",
       "      <td>2018-02-14 19:46:34</td>\n",
       "      <td>2018-02-16 18:17:02</td>\n",
       "      <td>2018-02-26 00:00:00</td>\n",
       "    </tr>\n",
       "  </tbody>\n",
       "</table>\n",
       "</div>"
      ],
      "text/plain": [
       "                           order_id                       customer_id  \\\n",
       "0  e481f51cbdc54678b7cc49136f2d6af7  9ef432eb6251297304e76186b10a928d   \n",
       "1  53cdb2fc8bc7dce0b6741e2150273451  b0830fb4747a6c6d20dea0b8c802d7ef   \n",
       "2  47770eb9100c2d0c44946d9cf07ec65d  41ce2a54c0b03bf3443c3d931a367089   \n",
       "3  949d5b44dbf5de918fe9c16f97b45f8a  f88197465ea7920adcdbec7375364d82   \n",
       "4  ad21c59c0840e6cb83a9ceb5573f8159  8ab97904e6daea8866dbdbc4fb7aad2c   \n",
       "\n",
       "  order_status order_purchase_timestamp    order_approved_at  \\\n",
       "0    delivered      2017-10-02 10:56:33  2017-10-02 11:07:15   \n",
       "1    delivered      2018-07-24 20:41:37  2018-07-26 03:24:27   \n",
       "2    delivered      2018-08-08 08:38:49  2018-08-08 08:55:23   \n",
       "3    delivered      2017-11-18 19:28:06  2017-11-18 19:45:59   \n",
       "4    delivered      2018-02-13 21:18:39  2018-02-13 22:20:29   \n",
       "\n",
       "  order_delivered_carrier_date order_delivered_customer_date  \\\n",
       "0          2017-10-04 19:55:00           2017-10-10 21:25:13   \n",
       "1          2018-07-26 14:31:00           2018-08-07 15:27:45   \n",
       "2          2018-08-08 13:50:00           2018-08-17 18:06:29   \n",
       "3          2017-11-22 13:39:59           2017-12-02 00:28:42   \n",
       "4          2018-02-14 19:46:34           2018-02-16 18:17:02   \n",
       "\n",
       "  order_estimated_delivery_date  \n",
       "0           2017-10-18 00:00:00  \n",
       "1           2018-08-13 00:00:00  \n",
       "2           2018-09-04 00:00:00  \n",
       "3           2017-12-15 00:00:00  \n",
       "4           2018-02-26 00:00:00  "
      ]
     },
     "execution_count": 17,
     "metadata": {},
     "output_type": "execute_result"
    }
   ],
   "source": [
    "print(\"First 5 Rows:\")\n",
    "orders.head()"
   ]
  },
  {
   "cell_type": "code",
   "execution_count": 14,
   "id": "24e8ffe6",
   "metadata": {},
   "outputs": [
    {
     "name": "stdout",
     "output_type": "stream",
     "text": [
      "order_id uniqueness: True\n",
      "\n",
      "order_status unique values: order_status\n",
      "delivered      96478\n",
      "shipped         1107\n",
      "canceled         625\n",
      "unavailable      609\n",
      "invoiced         314\n",
      "processing       301\n",
      "created            5\n",
      "approved           2\n",
      "Name: count, dtype: int64\n",
      "\n",
      "Date Range:\n",
      "2016-09-04 21:15:19 to 2018-10-17 17:30:18\n"
     ]
    }
   ],
   "source": [
    "# Check uniqueness of keys\n",
    "print(\"order_id uniqueness:\", orders[\"order_id\"].is_unique)\n",
    "\n",
    "# Check categorical values\n",
    "print(\"\\norder_status unique values:\", orders[\"order_status\"].value_counts())\n",
    "\n",
    "# Check order date ranges\n",
    "date_columns = orders[[\"order_purchase_timestamp\", \"order_delivered_customer_date\"]]\n",
    "all_dates = date_columns.stack() # convert into a single column series for easy min/max\n",
    "print(f\"\\nDate Range:\\n{all_dates.min()} to {all_dates.max()}\")"
   ]
  },
  {
   "cell_type": "markdown",
   "id": "67bb6e17",
   "metadata": {},
   "source": [
    "### 1.2 `order_reviews` table"
   ]
  },
  {
   "cell_type": "code",
   "execution_count": null,
   "id": "27a124fa",
   "metadata": {},
   "outputs": [
    {
     "name": "stdout",
     "output_type": "stream",
     "text": [
      "Dataset Info:\n",
      "<class 'pandas.core.frame.DataFrame'>\n",
      "RangeIndex: 99224 entries, 0 to 99223\n",
      "Data columns (total 7 columns):\n",
      " #   Column                   Non-Null Count  Dtype \n",
      "---  ------                   --------------  ----- \n",
      " 0   review_id                99224 non-null  object\n",
      " 1   order_id                 99224 non-null  object\n",
      " 2   review_score             99224 non-null  int64 \n",
      " 3   review_comment_title     11568 non-null  object\n",
      " 4   review_comment_message   40977 non-null  object\n",
      " 5   review_creation_date     99224 non-null  object\n",
      " 6   review_answer_timestamp  99224 non-null  object\n",
      "dtypes: int64(1), object(6)\n",
      "memory usage: 5.3+ MB\n",
      "\n",
      "Missing Values:\n",
      "review_id                      0\n",
      "order_id                       0\n",
      "review_score                   0\n",
      "review_comment_title       87656\n",
      "review_comment_message     58247\n",
      "review_creation_date           0\n",
      "review_answer_timestamp        0\n",
      "dtype: int64\n",
      "\n",
      "Descriptive Statistics:\n"
     ]
    },
    {
     "data": {
      "application/vnd.microsoft.datawrangler.viewer.v0+json": {
       "columns": [
        {
         "name": "index",
         "rawType": "object",
         "type": "string"
        },
        {
         "name": "review_score",
         "rawType": "float64",
         "type": "float"
        }
       ],
       "ref": "acc5df65-0d41-48b2-9e99-3f7742b38bc6",
       "rows": [
        [
         "count",
         "99224.0"
        ],
        [
         "mean",
         "4.08642062404257"
        ],
        [
         "std",
         "1.3475791311150982"
        ],
        [
         "min",
         "1.0"
        ],
        [
         "25%",
         "4.0"
        ],
        [
         "50%",
         "5.0"
        ],
        [
         "75%",
         "5.0"
        ],
        [
         "max",
         "5.0"
        ]
       ],
       "shape": {
        "columns": 1,
        "rows": 8
       }
      },
      "text/html": [
       "<div>\n",
       "<style scoped>\n",
       "    .dataframe tbody tr th:only-of-type {\n",
       "        vertical-align: middle;\n",
       "    }\n",
       "\n",
       "    .dataframe tbody tr th {\n",
       "        vertical-align: top;\n",
       "    }\n",
       "\n",
       "    .dataframe thead th {\n",
       "        text-align: right;\n",
       "    }\n",
       "</style>\n",
       "<table border=\"1\" class=\"dataframe\">\n",
       "  <thead>\n",
       "    <tr style=\"text-align: right;\">\n",
       "      <th></th>\n",
       "      <th>review_score</th>\n",
       "    </tr>\n",
       "  </thead>\n",
       "  <tbody>\n",
       "    <tr>\n",
       "      <th>count</th>\n",
       "      <td>99224.000000</td>\n",
       "    </tr>\n",
       "    <tr>\n",
       "      <th>mean</th>\n",
       "      <td>4.086421</td>\n",
       "    </tr>\n",
       "    <tr>\n",
       "      <th>std</th>\n",
       "      <td>1.347579</td>\n",
       "    </tr>\n",
       "    <tr>\n",
       "      <th>min</th>\n",
       "      <td>1.000000</td>\n",
       "    </tr>\n",
       "    <tr>\n",
       "      <th>25%</th>\n",
       "      <td>4.000000</td>\n",
       "    </tr>\n",
       "    <tr>\n",
       "      <th>50%</th>\n",
       "      <td>5.000000</td>\n",
       "    </tr>\n",
       "    <tr>\n",
       "      <th>75%</th>\n",
       "      <td>5.000000</td>\n",
       "    </tr>\n",
       "    <tr>\n",
       "      <th>max</th>\n",
       "      <td>5.000000</td>\n",
       "    </tr>\n",
       "  </tbody>\n",
       "</table>\n",
       "</div>"
      ],
      "text/plain": [
       "       review_score\n",
       "count  99224.000000\n",
       "mean       4.086421\n",
       "std        1.347579\n",
       "min        1.000000\n",
       "25%        4.000000\n",
       "50%        5.000000\n",
       "75%        5.000000\n",
       "max        5.000000"
      ]
     },
     "execution_count": 16,
     "metadata": {},
     "output_type": "execute_result"
    }
   ],
   "source": [
    "print(\"Dataset Info:\")\n",
    "order_reviews.info()\n",
    "print(\"\\nMissing Values:\")\n",
    "print(order_reviews.isna().sum())\n",
    "print(\"\\nDescriptive Statistics:\")\n",
    "order_reviews.describe()"
   ]
  },
  {
   "cell_type": "code",
   "execution_count": 19,
   "id": "3058539f",
   "metadata": {},
   "outputs": [
    {
     "name": "stdout",
     "output_type": "stream",
     "text": [
      "First 5 Rows:\n"
     ]
    },
    {
     "data": {
      "application/vnd.microsoft.datawrangler.viewer.v0+json": {
       "columns": [
        {
         "name": "index",
         "rawType": "int64",
         "type": "integer"
        },
        {
         "name": "review_id",
         "rawType": "object",
         "type": "string"
        },
        {
         "name": "order_id",
         "rawType": "object",
         "type": "string"
        },
        {
         "name": "review_score",
         "rawType": "int64",
         "type": "integer"
        },
        {
         "name": "review_comment_title",
         "rawType": "object",
         "type": "unknown"
        },
        {
         "name": "review_comment_message",
         "rawType": "object",
         "type": "unknown"
        },
        {
         "name": "review_creation_date",
         "rawType": "object",
         "type": "string"
        },
        {
         "name": "review_answer_timestamp",
         "rawType": "object",
         "type": "string"
        }
       ],
       "ref": "29298beb-5b43-4607-a695-9792aeaab601",
       "rows": [
        [
         "0",
         "7bc2406110b926393aa56f80a40eba40",
         "73fc7af87114b39712e6da79b0a377eb",
         "4",
         null,
         null,
         "2018-01-18 00:00:00",
         "2018-01-18 21:46:59"
        ],
        [
         "1",
         "80e641a11e56f04c1ad469d5645fdfde",
         "a548910a1c6147796b98fdf73dbeba33",
         "5",
         null,
         null,
         "2018-03-10 00:00:00",
         "2018-03-11 03:05:13"
        ],
        [
         "2",
         "228ce5500dc1d8e020d8d1322874b6f0",
         "f9e4b658b201a9f2ecdecbb34bed034b",
         "5",
         null,
         null,
         "2018-02-17 00:00:00",
         "2018-02-18 14:36:24"
        ],
        [
         "3",
         "e64fb393e7b32834bb789ff8bb30750e",
         "658677c97b385a9be170737859d3511b",
         "5",
         null,
         "Recebi bem antes do prazo estipulado.",
         "2017-04-21 00:00:00",
         "2017-04-21 22:02:06"
        ],
        [
         "4",
         "f7c4243c7fe1938f181bec41a392bdeb",
         "8e6bfb81e283fa7e4f11123a3fb894f1",
         "5",
         null,
         "Parabéns lojas lannister adorei comprar pela Internet seguro e prático Parabéns a todos feliz Páscoa",
         "2018-03-01 00:00:00",
         "2018-03-02 10:26:53"
        ]
       ],
       "shape": {
        "columns": 7,
        "rows": 5
       }
      },
      "text/html": [
       "<div>\n",
       "<style scoped>\n",
       "    .dataframe tbody tr th:only-of-type {\n",
       "        vertical-align: middle;\n",
       "    }\n",
       "\n",
       "    .dataframe tbody tr th {\n",
       "        vertical-align: top;\n",
       "    }\n",
       "\n",
       "    .dataframe thead th {\n",
       "        text-align: right;\n",
       "    }\n",
       "</style>\n",
       "<table border=\"1\" class=\"dataframe\">\n",
       "  <thead>\n",
       "    <tr style=\"text-align: right;\">\n",
       "      <th></th>\n",
       "      <th>review_id</th>\n",
       "      <th>order_id</th>\n",
       "      <th>review_score</th>\n",
       "      <th>review_comment_title</th>\n",
       "      <th>review_comment_message</th>\n",
       "      <th>review_creation_date</th>\n",
       "      <th>review_answer_timestamp</th>\n",
       "    </tr>\n",
       "  </thead>\n",
       "  <tbody>\n",
       "    <tr>\n",
       "      <th>0</th>\n",
       "      <td>7bc2406110b926393aa56f80a40eba40</td>\n",
       "      <td>73fc7af87114b39712e6da79b0a377eb</td>\n",
       "      <td>4</td>\n",
       "      <td>NaN</td>\n",
       "      <td>NaN</td>\n",
       "      <td>2018-01-18 00:00:00</td>\n",
       "      <td>2018-01-18 21:46:59</td>\n",
       "    </tr>\n",
       "    <tr>\n",
       "      <th>1</th>\n",
       "      <td>80e641a11e56f04c1ad469d5645fdfde</td>\n",
       "      <td>a548910a1c6147796b98fdf73dbeba33</td>\n",
       "      <td>5</td>\n",
       "      <td>NaN</td>\n",
       "      <td>NaN</td>\n",
       "      <td>2018-03-10 00:00:00</td>\n",
       "      <td>2018-03-11 03:05:13</td>\n",
       "    </tr>\n",
       "    <tr>\n",
       "      <th>2</th>\n",
       "      <td>228ce5500dc1d8e020d8d1322874b6f0</td>\n",
       "      <td>f9e4b658b201a9f2ecdecbb34bed034b</td>\n",
       "      <td>5</td>\n",
       "      <td>NaN</td>\n",
       "      <td>NaN</td>\n",
       "      <td>2018-02-17 00:00:00</td>\n",
       "      <td>2018-02-18 14:36:24</td>\n",
       "    </tr>\n",
       "    <tr>\n",
       "      <th>3</th>\n",
       "      <td>e64fb393e7b32834bb789ff8bb30750e</td>\n",
       "      <td>658677c97b385a9be170737859d3511b</td>\n",
       "      <td>5</td>\n",
       "      <td>NaN</td>\n",
       "      <td>Recebi bem antes do prazo estipulado.</td>\n",
       "      <td>2017-04-21 00:00:00</td>\n",
       "      <td>2017-04-21 22:02:06</td>\n",
       "    </tr>\n",
       "    <tr>\n",
       "      <th>4</th>\n",
       "      <td>f7c4243c7fe1938f181bec41a392bdeb</td>\n",
       "      <td>8e6bfb81e283fa7e4f11123a3fb894f1</td>\n",
       "      <td>5</td>\n",
       "      <td>NaN</td>\n",
       "      <td>Parabéns lojas lannister adorei comprar pela I...</td>\n",
       "      <td>2018-03-01 00:00:00</td>\n",
       "      <td>2018-03-02 10:26:53</td>\n",
       "    </tr>\n",
       "  </tbody>\n",
       "</table>\n",
       "</div>"
      ],
      "text/plain": [
       "                          review_id                          order_id  \\\n",
       "0  7bc2406110b926393aa56f80a40eba40  73fc7af87114b39712e6da79b0a377eb   \n",
       "1  80e641a11e56f04c1ad469d5645fdfde  a548910a1c6147796b98fdf73dbeba33   \n",
       "2  228ce5500dc1d8e020d8d1322874b6f0  f9e4b658b201a9f2ecdecbb34bed034b   \n",
       "3  e64fb393e7b32834bb789ff8bb30750e  658677c97b385a9be170737859d3511b   \n",
       "4  f7c4243c7fe1938f181bec41a392bdeb  8e6bfb81e283fa7e4f11123a3fb894f1   \n",
       "\n",
       "   review_score review_comment_title  \\\n",
       "0             4                  NaN   \n",
       "1             5                  NaN   \n",
       "2             5                  NaN   \n",
       "3             5                  NaN   \n",
       "4             5                  NaN   \n",
       "\n",
       "                              review_comment_message review_creation_date  \\\n",
       "0                                                NaN  2018-01-18 00:00:00   \n",
       "1                                                NaN  2018-03-10 00:00:00   \n",
       "2                                                NaN  2018-02-17 00:00:00   \n",
       "3              Recebi bem antes do prazo estipulado.  2017-04-21 00:00:00   \n",
       "4  Parabéns lojas lannister adorei comprar pela I...  2018-03-01 00:00:00   \n",
       "\n",
       "  review_answer_timestamp  \n",
       "0     2018-01-18 21:46:59  \n",
       "1     2018-03-11 03:05:13  \n",
       "2     2018-02-18 14:36:24  \n",
       "3     2017-04-21 22:02:06  \n",
       "4     2018-03-02 10:26:53  "
      ]
     },
     "execution_count": 19,
     "metadata": {},
     "output_type": "execute_result"
    }
   ],
   "source": [
    "print(\"First 5 Rows:\")\n",
    "order_reviews.head()"
   ]
  },
  {
   "cell_type": "code",
   "execution_count": null,
   "id": "d77f17c5",
   "metadata": {},
   "outputs": [
    {
     "name": "stdout",
     "output_type": "stream",
     "text": [
      "review_id uniqueness: False\n",
      "order_id uniqueness: False\n",
      "Number of duplicate composite keys: 0\n",
      "\n",
      "Review Scores Distribution: review_score\n",
      "1    11424\n",
      "2     3151\n",
      "3     8179\n",
      "4    19142\n",
      "5    57328\n",
      "Name: count, dtype: int64\n",
      "\n",
      "Review Date Range:\n",
      "2016-10-02 00:00:00 to 2018-10-29 12:27:35\n"
     ]
    }
   ],
   "source": [
    "# Check the uniqueness of keys\n",
    "print(\"review_id uniqueness:\", order_reviews[\"review_id\"].is_unique)\n",
    "print(\"order_id uniqueness:\", order_reviews[\"order_id\"].is_unique)\n",
    "composite_duplicates = order_reviews.duplicated(subset=['review_id', 'order_id']).sum()\n",
    "print(f\"Number of duplicate composite keys (review_id, order_id): {composite_duplicates}\")\n",
    "\n",
    "# Check review scores distribution\n",
    "print(\"\\nReview Scores Distribution:\", order_reviews[\"review_score\"].value_counts().sort_index())\n",
    "\n",
    "# Check review creation and answer date ranges\n",
    "review_date_columns = order_reviews[[\"review_creation_date\", \"review_answer_timestamp\"]]\n",
    "all_review_dates = review_date_columns.stack() # convert into a single column series for easy min/max\n",
    "print(f\"\\nReview Date Range:\\n{all_review_dates.min()} to {all_review_dates.max()}\")"
   ]
  },
  {
   "cell_type": "markdown",
   "id": "e3403868",
   "metadata": {},
   "source": [
    "### 1.3 `order_payments` table"
   ]
  },
  {
   "cell_type": "code",
   "execution_count": null,
   "id": "fce7fb39",
   "metadata": {},
   "outputs": [
    {
     "name": "stdout",
     "output_type": "stream",
     "text": [
      "Dataset Info:\n",
      "<class 'pandas.core.frame.DataFrame'>\n",
      "RangeIndex: 103886 entries, 0 to 103885\n",
      "Data columns (total 5 columns):\n",
      " #   Column                Non-Null Count   Dtype  \n",
      "---  ------                --------------   -----  \n",
      " 0   order_id              103886 non-null  object \n",
      " 1   payment_sequential    103886 non-null  int64  \n",
      " 2   payment_type          103886 non-null  object \n",
      " 3   payment_installments  103886 non-null  int64  \n",
      " 4   payment_value         103886 non-null  float64\n",
      "dtypes: float64(1), int64(2), object(2)\n",
      "memory usage: 4.0+ MB\n",
      "\n",
      "Missing Values:\n",
      "order_id                0\n",
      "payment_sequential      0\n",
      "payment_type            0\n",
      "payment_installments    0\n",
      "payment_value           0\n",
      "dtype: int64\n",
      "\n",
      "Descriptive Statistics:\n"
     ]
    },
    {
     "data": {
      "application/vnd.microsoft.datawrangler.viewer.v0+json": {
       "columns": [
        {
         "name": "index",
         "rawType": "object",
         "type": "string"
        },
        {
         "name": "payment_sequential",
         "rawType": "float64",
         "type": "float"
        },
        {
         "name": "payment_installments",
         "rawType": "float64",
         "type": "float"
        },
        {
         "name": "payment_value",
         "rawType": "float64",
         "type": "float"
        }
       ],
       "ref": "20c92003-b73d-4985-8782-809e576a966a",
       "rows": [
        [
         "count",
         "103886.0",
         "103886.0",
         "103886.0"
        ],
        [
         "mean",
         "1.0926785129853878",
         "2.853348863176944",
         "154.10038041699556"
        ],
        [
         "std",
         "0.7065837791949955",
         "2.687050673856479",
         "217.49406386472435"
        ],
        [
         "min",
         "1.0",
         "0.0",
         "0.0"
        ],
        [
         "25%",
         "1.0",
         "1.0",
         "56.79"
        ],
        [
         "50%",
         "1.0",
         "1.0",
         "100.0"
        ],
        [
         "75%",
         "1.0",
         "4.0",
         "171.8375"
        ],
        [
         "max",
         "29.0",
         "24.0",
         "13664.08"
        ]
       ],
       "shape": {
        "columns": 3,
        "rows": 8
       }
      },
      "text/html": [
       "<div>\n",
       "<style scoped>\n",
       "    .dataframe tbody tr th:only-of-type {\n",
       "        vertical-align: middle;\n",
       "    }\n",
       "\n",
       "    .dataframe tbody tr th {\n",
       "        vertical-align: top;\n",
       "    }\n",
       "\n",
       "    .dataframe thead th {\n",
       "        text-align: right;\n",
       "    }\n",
       "</style>\n",
       "<table border=\"1\" class=\"dataframe\">\n",
       "  <thead>\n",
       "    <tr style=\"text-align: right;\">\n",
       "      <th></th>\n",
       "      <th>payment_sequential</th>\n",
       "      <th>payment_installments</th>\n",
       "      <th>payment_value</th>\n",
       "    </tr>\n",
       "  </thead>\n",
       "  <tbody>\n",
       "    <tr>\n",
       "      <th>count</th>\n",
       "      <td>103886.000000</td>\n",
       "      <td>103886.000000</td>\n",
       "      <td>103886.000000</td>\n",
       "    </tr>\n",
       "    <tr>\n",
       "      <th>mean</th>\n",
       "      <td>1.092679</td>\n",
       "      <td>2.853349</td>\n",
       "      <td>154.100380</td>\n",
       "    </tr>\n",
       "    <tr>\n",
       "      <th>std</th>\n",
       "      <td>0.706584</td>\n",
       "      <td>2.687051</td>\n",
       "      <td>217.494064</td>\n",
       "    </tr>\n",
       "    <tr>\n",
       "      <th>min</th>\n",
       "      <td>1.000000</td>\n",
       "      <td>0.000000</td>\n",
       "      <td>0.000000</td>\n",
       "    </tr>\n",
       "    <tr>\n",
       "      <th>25%</th>\n",
       "      <td>1.000000</td>\n",
       "      <td>1.000000</td>\n",
       "      <td>56.790000</td>\n",
       "    </tr>\n",
       "    <tr>\n",
       "      <th>50%</th>\n",
       "      <td>1.000000</td>\n",
       "      <td>1.000000</td>\n",
       "      <td>100.000000</td>\n",
       "    </tr>\n",
       "    <tr>\n",
       "      <th>75%</th>\n",
       "      <td>1.000000</td>\n",
       "      <td>4.000000</td>\n",
       "      <td>171.837500</td>\n",
       "    </tr>\n",
       "    <tr>\n",
       "      <th>max</th>\n",
       "      <td>29.000000</td>\n",
       "      <td>24.000000</td>\n",
       "      <td>13664.080000</td>\n",
       "    </tr>\n",
       "  </tbody>\n",
       "</table>\n",
       "</div>"
      ],
      "text/plain": [
       "       payment_sequential  payment_installments  payment_value\n",
       "count       103886.000000         103886.000000  103886.000000\n",
       "mean             1.092679              2.853349     154.100380\n",
       "std              0.706584              2.687051     217.494064\n",
       "min              1.000000              0.000000       0.000000\n",
       "25%              1.000000              1.000000      56.790000\n",
       "50%              1.000000              1.000000     100.000000\n",
       "75%              1.000000              4.000000     171.837500\n",
       "max             29.000000             24.000000   13664.080000"
      ]
     },
     "execution_count": 24,
     "metadata": {},
     "output_type": "execute_result"
    }
   ],
   "source": [
    "print(\"Dataset Info:\")\n",
    "order_payments.info()\n",
    "print(\"\\nMissing Values:\")\n",
    "print(order_payments.isna().sum())\n",
    "print(\"\\nDescriptive Statistics:\")\n",
    "order_payments.describe()"
   ]
  },
  {
   "cell_type": "code",
   "execution_count": 25,
   "id": "1c156fca",
   "metadata": {},
   "outputs": [
    {
     "name": "stdout",
     "output_type": "stream",
     "text": [
      "First 5 Rows:\n"
     ]
    },
    {
     "data": {
      "application/vnd.microsoft.datawrangler.viewer.v0+json": {
       "columns": [
        {
         "name": "index",
         "rawType": "int64",
         "type": "integer"
        },
        {
         "name": "order_id",
         "rawType": "object",
         "type": "string"
        },
        {
         "name": "payment_sequential",
         "rawType": "int64",
         "type": "integer"
        },
        {
         "name": "payment_type",
         "rawType": "object",
         "type": "string"
        },
        {
         "name": "payment_installments",
         "rawType": "int64",
         "type": "integer"
        },
        {
         "name": "payment_value",
         "rawType": "float64",
         "type": "float"
        }
       ],
       "ref": "254087ac-ee16-4cef-89a1-81c9b8c05475",
       "rows": [
        [
         "0",
         "b81ef226f3fe1789b1e8b2acac839d17",
         "1",
         "credit_card",
         "8",
         "99.33"
        ],
        [
         "1",
         "a9810da82917af2d9aefd1278f1dcfa0",
         "1",
         "credit_card",
         "1",
         "24.39"
        ],
        [
         "2",
         "25e8ea4e93396b6fa0d3dd708e76c1bd",
         "1",
         "credit_card",
         "1",
         "65.71"
        ],
        [
         "3",
         "ba78997921bbcdc1373bb41e913ab953",
         "1",
         "credit_card",
         "8",
         "107.78"
        ],
        [
         "4",
         "42fdf880ba16b47b59251dd489d4441a",
         "1",
         "credit_card",
         "2",
         "128.45"
        ]
       ],
       "shape": {
        "columns": 5,
        "rows": 5
       }
      },
      "text/html": [
       "<div>\n",
       "<style scoped>\n",
       "    .dataframe tbody tr th:only-of-type {\n",
       "        vertical-align: middle;\n",
       "    }\n",
       "\n",
       "    .dataframe tbody tr th {\n",
       "        vertical-align: top;\n",
       "    }\n",
       "\n",
       "    .dataframe thead th {\n",
       "        text-align: right;\n",
       "    }\n",
       "</style>\n",
       "<table border=\"1\" class=\"dataframe\">\n",
       "  <thead>\n",
       "    <tr style=\"text-align: right;\">\n",
       "      <th></th>\n",
       "      <th>order_id</th>\n",
       "      <th>payment_sequential</th>\n",
       "      <th>payment_type</th>\n",
       "      <th>payment_installments</th>\n",
       "      <th>payment_value</th>\n",
       "    </tr>\n",
       "  </thead>\n",
       "  <tbody>\n",
       "    <tr>\n",
       "      <th>0</th>\n",
       "      <td>b81ef226f3fe1789b1e8b2acac839d17</td>\n",
       "      <td>1</td>\n",
       "      <td>credit_card</td>\n",
       "      <td>8</td>\n",
       "      <td>99.33</td>\n",
       "    </tr>\n",
       "    <tr>\n",
       "      <th>1</th>\n",
       "      <td>a9810da82917af2d9aefd1278f1dcfa0</td>\n",
       "      <td>1</td>\n",
       "      <td>credit_card</td>\n",
       "      <td>1</td>\n",
       "      <td>24.39</td>\n",
       "    </tr>\n",
       "    <tr>\n",
       "      <th>2</th>\n",
       "      <td>25e8ea4e93396b6fa0d3dd708e76c1bd</td>\n",
       "      <td>1</td>\n",
       "      <td>credit_card</td>\n",
       "      <td>1</td>\n",
       "      <td>65.71</td>\n",
       "    </tr>\n",
       "    <tr>\n",
       "      <th>3</th>\n",
       "      <td>ba78997921bbcdc1373bb41e913ab953</td>\n",
       "      <td>1</td>\n",
       "      <td>credit_card</td>\n",
       "      <td>8</td>\n",
       "      <td>107.78</td>\n",
       "    </tr>\n",
       "    <tr>\n",
       "      <th>4</th>\n",
       "      <td>42fdf880ba16b47b59251dd489d4441a</td>\n",
       "      <td>1</td>\n",
       "      <td>credit_card</td>\n",
       "      <td>2</td>\n",
       "      <td>128.45</td>\n",
       "    </tr>\n",
       "  </tbody>\n",
       "</table>\n",
       "</div>"
      ],
      "text/plain": [
       "                           order_id  payment_sequential payment_type  \\\n",
       "0  b81ef226f3fe1789b1e8b2acac839d17                   1  credit_card   \n",
       "1  a9810da82917af2d9aefd1278f1dcfa0                   1  credit_card   \n",
       "2  25e8ea4e93396b6fa0d3dd708e76c1bd                   1  credit_card   \n",
       "3  ba78997921bbcdc1373bb41e913ab953                   1  credit_card   \n",
       "4  42fdf880ba16b47b59251dd489d4441a                   1  credit_card   \n",
       "\n",
       "   payment_installments  payment_value  \n",
       "0                     8          99.33  \n",
       "1                     1          24.39  \n",
       "2                     1          65.71  \n",
       "3                     8         107.78  \n",
       "4                     2         128.45  "
      ]
     },
     "execution_count": 25,
     "metadata": {},
     "output_type": "execute_result"
    }
   ],
   "source": [
    "print(\"First 5 Rows:\")\n",
    "order_payments.head()"
   ]
  },
  {
   "cell_type": "code",
   "execution_count": 29,
   "id": "098e7a23",
   "metadata": {},
   "outputs": [
    {
     "name": "stdout",
     "output_type": "stream",
     "text": [
      "order_id uniqueness: False\n",
      "payment_sequential uniqueness: False\n",
      "Number of duplicate composite keys (order_id, payment_sequential): 0\n",
      "\n",
      "Payment Types Distribution: payment_type\n",
      "credit_card    76795\n",
      "boleto         19784\n",
      "voucher         5775\n",
      "debit_card      1529\n",
      "not_defined        3\n",
      "Name: count, dtype: int64\n"
     ]
    }
   ],
   "source": [
    "# Check the uniqueness of keys\n",
    "print(\"order_id uniqueness:\", order_payments[\"order_id\"].is_unique)\n",
    "print(\"payment_sequential uniqueness:\", order_payments[\"payment_sequential\"].is_unique)\n",
    "composite_duplicates = order_payments.duplicated(subset=['order_id', 'payment_sequential']).sum()\n",
    "print(f\"Number of duplicate composite keys (order_id, payment_sequential): {composite_duplicates}\")\n",
    "\n",
    "# Check payment types distribution\n",
    "print(\"\\nPayment Types Distribution:\", order_payments[\"payment_type\"].value_counts())"
   ]
  },
  {
   "cell_type": "code",
   "execution_count": null,
   "id": "24cb2d86",
   "metadata": {},
   "outputs": [
    {
     "data": {
      "image/png": "[encoded data removed]",
      "text/plain": [
       "<Figure size 1200x500 with 2 Axes>"
      ]
     },
     "metadata": {},
     "output_type": "display_data"
    }
   ],
   "source": [
    "# Plot distribution of payment installments and payment values\n",
    "plt.figure(figsize=(12, 5))\n",
    "plt.subplot(1, 2, 1)\n",
    "plt.hist(order_payments[\"payment_installments\"], bins=30, color=\"blue\", alpha=0.7)\n",
    "plt.title(\"Payment Installments Distribution\")\n",
    "plt.xlabel(\"Number of Installments\")\n",
    "\n",
    "plt.ylabel(\"Frequency\")\n",
    "plt.subplot(1, 2, 2)\n",
    "plt.hist(order_payments[\"payment_value\"], bins=30, color=\"green\", alpha=0.7)\n",
    "plt.title(\"Payment Value Distribution\")\n",
    "plt.xlabel(\"Payment Value\")\n",
    "plt.ylabel(\"Frequency\")\n",
    "\n",
    "plt.tight_layout()\n",
    "plt.show()"
   ]
  },
  {
   "cell_type": "markdown",
   "id": "cfb62a0f",
   "metadata": {},
   "source": [
    "### 1.4 `order_items` table "
   ]
  },
  {
   "cell_type": "code",
   "execution_count": null,
   "id": "0ec4fa53",
   "metadata": {},
   "outputs": [
    {
     "name": "stdout",
     "output_type": "stream",
     "text": [
      "Dataset Info:\n",
      "<class 'pandas.core.frame.DataFrame'>\n",
      "RangeIndex: 112650 entries, 0 to 112649\n",
      "Data columns (total 7 columns):\n",
      " #   Column               Non-Null Count   Dtype  \n",
      "---  ------               --------------   -----  \n",
      " 0   order_id             112650 non-null  object \n",
      " 1   order_item_id        112650 non-null  int64  \n",
      " 2   product_id           112650 non-null  object \n",
      " 3   seller_id            112650 non-null  object \n",
      " 4   shipping_limit_date  112650 non-null  object \n",
      " 5   price                112650 non-null  float64\n",
      " 6   freight_value        112650 non-null  float64\n",
      "dtypes: float64(2), int64(1), object(4)\n",
      "memory usage: 6.0+ MB\n",
      "\n",
      "Missing Values:\n",
      "order_id               0\n",
      "order_item_id          0\n",
      "product_id             0\n",
      "seller_id              0\n",
      "shipping_limit_date    0\n",
      "price                  0\n",
      "freight_value          0\n",
      "dtype: int64\n",
      "\n",
      "Descriptive Statistics:\n"
     ]
    },
    {
     "data": {
      "application/vnd.microsoft.datawrangler.viewer.v0+json": {
       "columns": [
        {
         "name": "index",
         "rawType": "object",
         "type": "string"
        },
        {
         "name": "order_item_id",
         "rawType": "float64",
         "type": "float"
        },
        {
         "name": "price",
         "rawType": "float64",
         "type": "float"
        },
        {
         "name": "freight_value",
         "rawType": "float64",
         "type": "float"
        }
       ],
       "ref": "3e6c348d-d306-46a6-8972-430b74acd4cf",
       "rows": [
        [
         "count",
         "112650.0",
         "112650.0",
         "112650.0"
        ],
        [
         "mean",
         "1.1978339991122948",
         "120.65373901464713",
         "19.990319928983578"
        ],
        [
         "std",
         "0.7051240313951733",
         "183.6339280502594",
         "15.806405412297082"
        ],
        [
         "min",
         "1.0",
         "0.85",
         "0.0"
        ],
        [
         "25%",
         "1.0",
         "39.9",
         "13.08"
        ],
        [
         "50%",
         "1.0",
         "74.99",
         "16.26"
        ],
        [
         "75%",
         "1.0",
         "134.9",
         "21.15"
        ],
        [
         "max",
         "21.0",
         "6735.0",
         "409.68"
        ]
       ],
       "shape": {
        "columns": 3,
        "rows": 8
       }
      },
      "text/html": [
       "<div>\n",
       "<style scoped>\n",
       "    .dataframe tbody tr th:only-of-type {\n",
       "        vertical-align: middle;\n",
       "    }\n",
       "\n",
       "    .dataframe tbody tr th {\n",
       "        vertical-align: top;\n",
       "    }\n",
       "\n",
       "    .dataframe thead th {\n",
       "        text-align: right;\n",
       "    }\n",
       "</style>\n",
       "<table border=\"1\" class=\"dataframe\">\n",
       "  <thead>\n",
       "    <tr style=\"text-align: right;\">\n",
       "      <th></th>\n",
       "      <th>order_item_id</th>\n",
       "      <th>price</th>\n",
       "      <th>freight_value</th>\n",
       "    </tr>\n",
       "  </thead>\n",
       "  <tbody>\n",
       "    <tr>\n",
       "      <th>count</th>\n",
       "      <td>112650.000000</td>\n",
       "      <td>112650.000000</td>\n",
       "      <td>112650.000000</td>\n",
       "    </tr>\n",
       "    <tr>\n",
       "      <th>mean</th>\n",
       "      <td>1.197834</td>\n",
       "      <td>120.653739</td>\n",
       "      <td>19.990320</td>\n",
       "    </tr>\n",
       "    <tr>\n",
       "      <th>std</th>\n",
       "      <td>0.705124</td>\n",
       "      <td>183.633928</td>\n",
       "      <td>15.806405</td>\n",
       "    </tr>\n",
       "    <tr>\n",
       "      <th>min</th>\n",
       "      <td>1.000000</td>\n",
       "      <td>0.850000</td>\n",
       "      <td>0.000000</td>\n",
       "    </tr>\n",
       "    <tr>\n",
       "      <th>25%</th>\n",
       "      <td>1.000000</td>\n",
       "      <td>39.900000</td>\n",
       "      <td>13.080000</td>\n",
       "    </tr>\n",
       "    <tr>\n",
       "      <th>50%</th>\n",
       "      <td>1.000000</td>\n",
       "      <td>74.990000</td>\n",
       "      <td>16.260000</td>\n",
       "    </tr>\n",
       "    <tr>\n",
       "      <th>75%</th>\n",
       "      <td>1.000000</td>\n",
       "      <td>134.900000</td>\n",
       "      <td>21.150000</td>\n",
       "    </tr>\n",
       "    <tr>\n",
       "      <th>max</th>\n",
       "      <td>21.000000</td>\n",
       "      <td>6735.000000</td>\n",
       "      <td>409.680000</td>\n",
       "    </tr>\n",
       "  </tbody>\n",
       "</table>\n",
       "</div>"
      ],
      "text/plain": [
       "       order_item_id          price  freight_value\n",
       "count  112650.000000  112650.000000  112650.000000\n",
       "mean        1.197834     120.653739      19.990320\n",
       "std         0.705124     183.633928      15.806405\n",
       "min         1.000000       0.850000       0.000000\n",
       "25%         1.000000      39.900000      13.080000\n",
       "50%         1.000000      74.990000      16.260000\n",
       "75%         1.000000     134.900000      21.150000\n",
       "max        21.000000    6735.000000     409.680000"
      ]
     },
     "execution_count": 30,
     "metadata": {},
     "output_type": "execute_result"
    }
   ],
   "source": [
    "print(\"Dataset Info:\")\n",
    "order_items.info()\n",
    "print(\"\\nMissing Values:\")\n",
    "print(order_items.isna().sum())\n",
    "print(\"\\nDescriptive Statistics:\")\n",
    "order_items.describe()"
   ]
  },
  {
   "cell_type": "code",
   "execution_count": 31,
   "id": "7259c3b8",
   "metadata": {},
   "outputs": [
    {
     "name": "stdout",
     "output_type": "stream",
     "text": [
      "First 5 Rows:\n"
     ]
    },
    {
     "data": {
      "application/vnd.microsoft.datawrangler.viewer.v0+json": {
       "columns": [
        {
         "name": "index",
         "rawType": "int64",
         "type": "integer"
        },
        {
         "name": "order_id",
         "rawType": "object",
         "type": "string"
        },
        {
         "name": "order_item_id",
         "rawType": "int64",
         "type": "integer"
        },
        {
         "name": "product_id",
         "rawType": "object",
         "type": "string"
        },
        {
         "name": "seller_id",
         "rawType": "object",
         "type": "string"
        },
        {
         "name": "shipping_limit_date",
         "rawType": "object",
         "type": "string"
        },
        {
         "name": "price",
         "rawType": "float64",
         "type": "float"
        },
        {
         "name": "freight_value",
         "rawType": "float64",
         "type": "float"
        }
       ],
       "ref": "914401b5-e9b7-4a80-b755-9b3faee8a5d4",
       "rows": [
        [
         "0",
         "00010242fe8c5a6d1ba2dd792cb16214",
         "1",
         "4244733e06e7ecb4970a6e2683c13e61",
         "48436dade18ac8b2bce089ec2a041202",
         "2017-09-19 09:45:35",
         "58.9",
         "13.29"
        ],
        [
         "1",
         "00018f77f2f0320c557190d7a144bdd3",
         "1",
         "e5f2d52b802189ee658865ca93d83a8f",
         "dd7ddc04e1b6c2c614352b383efe2d36",
         "2017-05-03 11:05:13",
         "239.9",
         "19.93"
        ],
        [
         "2",
         "000229ec398224ef6ca0657da4fc703e",
         "1",
         "c777355d18b72b67abbeef9df44fd0fd",
         "5b51032eddd242adc84c38acab88f23d",
         "2018-01-18 14:48:30",
         "199.0",
         "17.87"
        ],
        [
         "3",
         "00024acbcdf0a6daa1e931b038114c75",
         "1",
         "7634da152a4610f1595efa32f14722fc",
         "9d7a1d34a5052409006425275ba1c2b4",
         "2018-08-15 10:10:18",
         "12.99",
         "12.79"
        ],
        [
         "4",
         "00042b26cf59d7ce69dfabb4e55b4fd9",
         "1",
         "ac6c3623068f30de03045865e4e10089",
         "df560393f3a51e74553ab94004ba5c87",
         "2017-02-13 13:57:51",
         "199.9",
         "18.14"
        ]
       ],
       "shape": {
        "columns": 7,
        "rows": 5
       }
      },
      "text/html": [
       "<div>\n",
       "<style scoped>\n",
       "    .dataframe tbody tr th:only-of-type {\n",
       "        vertical-align: middle;\n",
       "    }\n",
       "\n",
       "    .dataframe tbody tr th {\n",
       "        vertical-align: top;\n",
       "    }\n",
       "\n",
       "    .dataframe thead th {\n",
       "        text-align: right;\n",
       "    }\n",
       "</style>\n",
       "<table border=\"1\" class=\"dataframe\">\n",
       "  <thead>\n",
       "    <tr style=\"text-align: right;\">\n",
       "      <th></th>\n",
       "      <th>order_id</th>\n",
       "      <th>order_item_id</th>\n",
       "      <th>product_id</th>\n",
       "      <th>seller_id</th>\n",
       "      <th>shipping_limit_date</th>\n",
       "      <th>price</th>\n",
       "      <th>freight_value</th>\n",
       "    </tr>\n",
       "  </thead>\n",
       "  <tbody>\n",
       "    <tr>\n",
       "      <th>0</th>\n",
       "      <td>00010242fe8c5a6d1ba2dd792cb16214</td>\n",
       "      <td>1</td>\n",
       "      <td>4244733e06e7ecb4970a6e2683c13e61</td>\n",
       "      <td>48436dade18ac8b2bce089ec2a041202</td>\n",
       "      <td>2017-09-19 09:45:35</td>\n",
       "      <td>58.90</td>\n",
       "      <td>13.29</td>\n",
       "    </tr>\n",
       "    <tr>\n",
       "      <th>1</th>\n",
       "      <td>00018f77f2f0320c557190d7a144bdd3</td>\n",
       "      <td>1</td>\n",
       "      <td>e5f2d52b802189ee658865ca93d83a8f</td>\n",
       "      <td>dd7ddc04e1b6c2c614352b383efe2d36</td>\n",
       "      <td>2017-05-03 11:05:13</td>\n",
       "      <td>239.90</td>\n",
       "      <td>19.93</td>\n",
       "    </tr>\n",
       "    <tr>\n",
       "      <th>2</th>\n",
       "      <td>000229ec398224ef6ca0657da4fc703e</td>\n",
       "      <td>1</td>\n",
       "      <td>c777355d18b72b67abbeef9df44fd0fd</td>\n",
       "      <td>5b51032eddd242adc84c38acab88f23d</td>\n",
       "      <td>2018-01-18 14:48:30</td>\n",
       "      <td>199.00</td>\n",
       "      <td>17.87</td>\n",
       "    </tr>\n",
       "    <tr>\n",
       "      <th>3</th>\n",
       "      <td>00024acbcdf0a6daa1e931b038114c75</td>\n",
       "      <td>1</td>\n",
       "      <td>7634da152a4610f1595efa32f14722fc</td>\n",
       "      <td>9d7a1d34a5052409006425275ba1c2b4</td>\n",
       "      <td>2018-08-15 10:10:18</td>\n",
       "      <td>12.99</td>\n",
       "      <td>12.79</td>\n",
       "    </tr>\n",
       "    <tr>\n",
       "      <th>4</th>\n",
       "      <td>00042b26cf59d7ce69dfabb4e55b4fd9</td>\n",
       "      <td>1</td>\n",
       "      <td>ac6c3623068f30de03045865e4e10089</td>\n",
       "      <td>df560393f3a51e74553ab94004ba5c87</td>\n",
       "      <td>2017-02-13 13:57:51</td>\n",
       "      <td>199.90</td>\n",
       "      <td>18.14</td>\n",
       "    </tr>\n",
       "  </tbody>\n",
       "</table>\n",
       "</div>"
      ],
      "text/plain": [
       "                           order_id  order_item_id  \\\n",
       "0  00010242fe8c5a6d1ba2dd792cb16214              1   \n",
       "1  00018f77f2f0320c557190d7a144bdd3              1   \n",
       "2  000229ec398224ef6ca0657da4fc703e              1   \n",
       "3  00024acbcdf0a6daa1e931b038114c75              1   \n",
       "4  00042b26cf59d7ce69dfabb4e55b4fd9              1   \n",
       "\n",
       "                         product_id                         seller_id  \\\n",
       "0  4244733e06e7ecb4970a6e2683c13e61  48436dade18ac8b2bce089ec2a041202   \n",
       "1  e5f2d52b802189ee658865ca93d83a8f  dd7ddc04e1b6c2c614352b383efe2d36   \n",
       "2  c777355d18b72b67abbeef9df44fd0fd  5b51032eddd242adc84c38acab88f23d   \n",
       "3  7634da152a4610f1595efa32f14722fc  9d7a1d34a5052409006425275ba1c2b4   \n",
       "4  ac6c3623068f30de03045865e4e10089  df560393f3a51e74553ab94004ba5c87   \n",
       "\n",
       "   shipping_limit_date   price  freight_value  \n",
       "0  2017-09-19 09:45:35   58.90          13.29  \n",
       "1  2017-05-03 11:05:13  239.90          19.93  \n",
       "2  2018-01-18 14:48:30  199.00          17.87  \n",
       "3  2018-08-15 10:10:18   12.99          12.79  \n",
       "4  2017-02-13 13:57:51  199.90          18.14  "
      ]
     },
     "execution_count": 31,
     "metadata": {},
     "output_type": "execute_result"
    }
   ],
   "source": [
    "print(\"First 5 Rows:\")\n",
    "order_items.head()"
   ]
  },
  {
   "cell_type": "code",
   "execution_count": 36,
   "id": "a538ab7e",
   "metadata": {},
   "outputs": [
    {
     "name": "stdout",
     "output_type": "stream",
     "text": [
      "order_id uniqueness: False\n",
      "order_item_id uniqueness: False\n",
      "product_id uniqueness: False\n",
      "seller_id uniqueness: False\n",
      "Number of duplicate composite keys (order_id, order_item_id, product_id, seller_id): 0\n"
     ]
    }
   ],
   "source": [
    "# Check uniqueness of keys\n",
    "print(\"order_id uniqueness:\", order_items[\"order_id\"].is_unique)\n",
    "print(\"order_item_id uniqueness:\", order_items[\"order_item_id\"].is_unique)\n",
    "print(\"product_id uniqueness:\", order_items[\"product_id\"].is_unique)\n",
    "print(\"seller_id uniqueness:\", order_items[\"seller_id\"].is_unique)\n",
    "composite_duplicates = order_items.duplicated(subset=[\"order_id\", \"order_item_id\", \"product_id\", \"seller_id\"]).sum()\n",
    "print(f\"Number of duplicate composite keys (order_id, order_item_id, product_id, seller_id): {composite_duplicates}\")"
   ]
  },
  {
   "cell_type": "code",
   "execution_count": null,
   "id": "bef97e96",
   "metadata": {},
   "outputs": [
    {
     "data": {
      "image/png": "[encoded data removed]",
      "text/plain": [
       "<Figure size 1200x500 with 2 Axes>"
      ]
     },
     "metadata": {},
     "output_type": "display_data"
    }
   ],
   "source": [
    "# Plot distribution of price and freight value\n",
    "plt.figure(figsize=(12, 5))\n",
    "plt.subplot(1, 2, 1)\n",
    "plt.hist(order_items[\"price\"], bins=50, color=\"blue\", alpha=0.7)\n",
    "plt.title(\"Price Distribution\")\n",
    "plt.xlabel(\"Price\")\n",
    "plt.ylabel(\"Frequency\")\n",
    "\n",
    "plt.subplot(1, 2, 2)\n",
    "plt.hist(order_items[\"freight_value\"], bins=50, color=\"green\", alpha=0.7)\n",
    "plt.title(\"Freight Value Distribution\")\n",
    "plt.xlabel(\"Freight Value\")\n",
    "plt.ylabel(\"Frequency\")\n",
    "\n",
    "plt.tight_layout()\n",
    "plt.show()"
   ]
  },
  {
   "cell_type": "markdown",
   "id": "6813ba44",
   "metadata": {},
   "source": [
    "### 1.5 `products` table"
   ]
  },
  {
   "cell_type": "code",
   "execution_count": 38,
   "id": "50f4fb6c",
   "metadata": {},
   "outputs": [
    {
     "name": "stdout",
     "output_type": "stream",
     "text": [
      "Dataset Info:\n",
      "<class 'pandas.core.frame.DataFrame'>\n",
      "RangeIndex: 32951 entries, 0 to 32950\n",
      "Data columns (total 9 columns):\n",
      " #   Column                      Non-Null Count  Dtype  \n",
      "---  ------                      --------------  -----  \n",
      " 0   product_id                  32951 non-null  object \n",
      " 1   product_category_name       32341 non-null  object \n",
      " 2   product_name_lenght         32341 non-null  float64\n",
      " 3   product_description_lenght  32341 non-null  float64\n",
      " 4   product_photos_qty          32341 non-null  float64\n",
      " 5   product_weight_g            32949 non-null  float64\n",
      " 6   product_length_cm           32949 non-null  float64\n",
      " 7   product_height_cm           32949 non-null  float64\n",
      " 8   product_width_cm            32949 non-null  float64\n",
      "dtypes: float64(7), object(2)\n",
      "memory usage: 2.3+ MB\n",
      "\n",
      "Missing Values:\n",
      "product_id                      0\n",
      "product_category_name         610\n",
      "product_name_lenght           610\n",
      "product_description_lenght    610\n",
      "product_photos_qty            610\n",
      "product_weight_g                2\n",
      "product_length_cm               2\n",
      "product_height_cm               2\n",
      "product_width_cm                2\n",
      "dtype: int64\n",
      "\n",
      "Descriptive Statistics:\n"
     ]
    },
    {
     "data": {
      "application/vnd.microsoft.datawrangler.viewer.v0+json": {
       "columns": [
        {
         "name": "index",
         "rawType": "object",
         "type": "string"
        },
        {
         "name": "product_name_lenght",
         "rawType": "float64",
         "type": "float"
        },
        {
         "name": "product_description_lenght",
         "rawType": "float64",
         "type": "float"
        },
        {
         "name": "product_photos_qty",
         "rawType": "float64",
         "type": "float"
        },
        {
         "name": "product_weight_g",
         "rawType": "float64",
         "type": "float"
        },
        {
         "name": "product_length_cm",
         "rawType": "float64",
         "type": "float"
        },
        {
         "name": "product_height_cm",
         "rawType": "float64",
         "type": "float"
        },
        {
         "name": "product_width_cm",
         "rawType": "float64",
         "type": "float"
        }
       ],
       "ref": "a629f0bf-c864-4563-b1c9-10199a577cbb",
       "rows": [
        [
         "count",
         "32341.0",
         "32341.0",
         "32341.0",
         "32949.0",
         "32949.0",
         "32949.0",
         "32949.0"
        ],
        [
         "mean",
         "48.47694876472589",
         "771.4952846232337",
         "2.1889861166939797",
         "2276.4724877841513",
         "30.81507784758263",
         "16.937661234028347",
         "23.196728277034204"
        ],
        [
         "std",
         "10.245740725237239",
         "635.1152246349538",
         "1.7367656379315444",
         "4282.038730977007",
         "16.914458054065967",
         "13.637554061749494",
         "12.079047453227835"
        ],
        [
         "min",
         "5.0",
         "4.0",
         "1.0",
         "0.0",
         "7.0",
         "2.0",
         "6.0"
        ],
        [
         "25%",
         "42.0",
         "339.0",
         "1.0",
         "300.0",
         "18.0",
         "8.0",
         "15.0"
        ],
        [
         "50%",
         "51.0",
         "595.0",
         "1.0",
         "700.0",
         "25.0",
         "13.0",
         "20.0"
        ],
        [
         "75%",
         "57.0",
         "972.0",
         "3.0",
         "1900.0",
         "38.0",
         "21.0",
         "30.0"
        ],
        [
         "max",
         "76.0",
         "3992.0",
         "20.0",
         "40425.0",
         "105.0",
         "105.0",
         "118.0"
        ]
       ],
       "shape": {
        "columns": 7,
        "rows": 8
       }
      },
      "text/html": [
       "<div>\n",
       "<style scoped>\n",
       "    .dataframe tbody tr th:only-of-type {\n",
       "        vertical-align: middle;\n",
       "    }\n",
       "\n",
       "    .dataframe tbody tr th {\n",
       "        vertical-align: top;\n",
       "    }\n",
       "\n",
       "    .dataframe thead th {\n",
       "        text-align: right;\n",
       "    }\n",
       "</style>\n",
       "<table border=\"1\" class=\"dataframe\">\n",
       "  <thead>\n",
       "    <tr style=\"text-align: right;\">\n",
       "      <th></th>\n",
       "      <th>product_name_lenght</th>\n",
       "      <th>product_description_lenght</th>\n",
       "      <th>product_photos_qty</th>\n",
       "      <th>product_weight_g</th>\n",
       "      <th>product_length_cm</th>\n",
       "      <th>product_height_cm</th>\n",
       "      <th>product_width_cm</th>\n",
       "    </tr>\n",
       "  </thead>\n",
       "  <tbody>\n",
       "    <tr>\n",
       "      <th>count</th>\n",
       "      <td>32341.000000</td>\n",
       "      <td>32341.000000</td>\n",
       "      <td>32341.000000</td>\n",
       "      <td>32949.000000</td>\n",
       "      <td>32949.000000</td>\n",
       "      <td>32949.000000</td>\n",
       "      <td>32949.000000</td>\n",
       "    </tr>\n",
       "    <tr>\n",
       "      <th>mean</th>\n",
       "      <td>48.476949</td>\n",
       "      <td>771.495285</td>\n",
       "      <td>2.188986</td>\n",
       "      <td>2276.472488</td>\n",
       "      <td>30.815078</td>\n",
       "      <td>16.937661</td>\n",
       "      <td>23.196728</td>\n",
       "    </tr>\n",
       "    <tr>\n",
       "      <th>std</th>\n",
       "      <td>10.245741</td>\n",
       "      <td>635.115225</td>\n",
       "      <td>1.736766</td>\n",
       "      <td>4282.038731</td>\n",
       "      <td>16.914458</td>\n",
       "      <td>13.637554</td>\n",
       "      <td>12.079047</td>\n",
       "    </tr>\n",
       "    <tr>\n",
       "      <th>min</th>\n",
       "      <td>5.000000</td>\n",
       "      <td>4.000000</td>\n",
       "      <td>1.000000</td>\n",
       "      <td>0.000000</td>\n",
       "      <td>7.000000</td>\n",
       "      <td>2.000000</td>\n",
       "      <td>6.000000</td>\n",
       "    </tr>\n",
       "    <tr>\n",
       "      <th>25%</th>\n",
       "      <td>42.000000</td>\n",
       "      <td>339.000000</td>\n",
       "      <td>1.000000</td>\n",
       "      <td>300.000000</td>\n",
       "      <td>18.000000</td>\n",
       "      <td>8.000000</td>\n",
       "      <td>15.000000</td>\n",
       "    </tr>\n",
       "    <tr>\n",
       "      <th>50%</th>\n",
       "      <td>51.000000</td>\n",
       "      <td>595.000000</td>\n",
       "      <td>1.000000</td>\n",
       "      <td>700.000000</td>\n",
       "      <td>25.000000</td>\n",
       "      <td>13.000000</td>\n",
       "      <td>20.000000</td>\n",
       "    </tr>\n",
       "    <tr>\n",
       "      <th>75%</th>\n",
       "      <td>57.000000</td>\n",
       "      <td>972.000000</td>\n",
       "      <td>3.000000</td>\n",
       "      <td>1900.000000</td>\n",
       "      <td>38.000000</td>\n",
       "      <td>21.000000</td>\n",
       "      <td>30.000000</td>\n",
       "    </tr>\n",
       "    <tr>\n",
       "      <th>max</th>\n",
       "      <td>76.000000</td>\n",
       "      <td>3992.000000</td>\n",
       "      <td>20.000000</td>\n",
       "      <td>40425.000000</td>\n",
       "      <td>105.000000</td>\n",
       "      <td>105.000000</td>\n",
       "      <td>118.000000</td>\n",
       "    </tr>\n",
       "  </tbody>\n",
       "</table>\n",
       "</div>"
      ],
      "text/plain": [
       "       product_name_lenght  product_description_lenght  product_photos_qty  \\\n",
       "count         32341.000000                32341.000000        32341.000000   \n",
       "mean             48.476949                  771.495285            2.188986   \n",
       "std              10.245741                  635.115225            1.736766   \n",
       "min               5.000000                    4.000000            1.000000   \n",
       "25%              42.000000                  339.000000            1.000000   \n",
       "50%              51.000000                  595.000000            1.000000   \n",
       "75%              57.000000                  972.000000            3.000000   \n",
       "max              76.000000                 3992.000000           20.000000   \n",
       "\n",
       "       product_weight_g  product_length_cm  product_height_cm  \\\n",
       "count      32949.000000       32949.000000       32949.000000   \n",
       "mean        2276.472488          30.815078          16.937661   \n",
       "std         4282.038731          16.914458          13.637554   \n",
       "min            0.000000           7.000000           2.000000   \n",
       "25%          300.000000          18.000000           8.000000   \n",
       "50%          700.000000          25.000000          13.000000   \n",
       "75%         1900.000000          38.000000          21.000000   \n",
       "max        40425.000000         105.000000         105.000000   \n",
       "\n",
       "       product_width_cm  \n",
       "count      32949.000000  \n",
       "mean          23.196728  \n",
       "std           12.079047  \n",
       "min            6.000000  \n",
       "25%           15.000000  \n",
       "50%           20.000000  \n",
       "75%           30.000000  \n",
       "max          118.000000  "
      ]
     },
     "execution_count": 38,
     "metadata": {},
     "output_type": "execute_result"
    }
   ],
   "source": [
    "print(\"Dataset Info:\")\n",
    "products.info()\n",
    "print(\"\\nMissing Values:\")\n",
    "print(products.isna().sum())\n",
    "print(\"\\nDescriptive Statistics:\")\n",
    "products.describe()"
   ]
  },
  {
   "cell_type": "code",
   "execution_count": 39,
   "id": "38b7bd7e",
   "metadata": {},
   "outputs": [
    {
     "name": "stdout",
     "output_type": "stream",
     "text": [
      "First 5 Rows:\n"
     ]
    },
    {
     "data": {
      "application/vnd.microsoft.datawrangler.viewer.v0+json": {
       "columns": [
        {
         "name": "index",
         "rawType": "int64",
         "type": "integer"
        },
        {
         "name": "product_id",
         "rawType": "object",
         "type": "string"
        },
        {
         "name": "product_category_name",
         "rawType": "object",
         "type": "string"
        },
        {
         "name": "product_name_lenght",
         "rawType": "float64",
         "type": "float"
        },
        {
         "name": "product_description_lenght",
         "rawType": "float64",
         "type": "float"
        },
        {
         "name": "product_photos_qty",
         "rawType": "float64",
         "type": "float"
        },
        {
         "name": "product_weight_g",
         "rawType": "float64",
         "type": "float"
        },
        {
         "name": "product_length_cm",
         "rawType": "float64",
         "type": "float"
        },
        {
         "name": "product_height_cm",
         "rawType": "float64",
         "type": "float"
        },
        {
         "name": "product_width_cm",
         "rawType": "float64",
         "type": "float"
        }
       ],
       "ref": "483d6bbf-894b-4631-ab5d-6176453f640a",
       "rows": [
        [
         "0",
         "1e9e8ef04dbcff4541ed26657ea517e5",
         "perfumaria",
         "40.0",
         "287.0",
         "1.0",
         "225.0",
         "16.0",
         "10.0",
         "14.0"
        ],
        [
         "1",
         "3aa071139cb16b67ca9e5dea641aaa2f",
         "artes",
         "44.0",
         "276.0",
         "1.0",
         "1000.0",
         "30.0",
         "18.0",
         "20.0"
        ],
        [
         "2",
         "96bd76ec8810374ed1b65e291975717f",
         "esporte_lazer",
         "46.0",
         "250.0",
         "1.0",
         "154.0",
         "18.0",
         "9.0",
         "15.0"
        ],
        [
         "3",
         "cef67bcfe19066a932b7673e239eb23d",
         "bebes",
         "27.0",
         "261.0",
         "1.0",
         "371.0",
         "26.0",
         "4.0",
         "26.0"
        ],
        [
         "4",
         "9dc1a7de274444849c219cff195d0b71",
         "utilidades_domesticas",
         "37.0",
         "402.0",
         "4.0",
         "625.0",
         "20.0",
         "17.0",
         "13.0"
        ]
       ],
       "shape": {
        "columns": 9,
        "rows": 5
       }
      },
      "text/html": [
       "<div>\n",
       "<style scoped>\n",
       "    .dataframe tbody tr th:only-of-type {\n",
       "        vertical-align: middle;\n",
       "    }\n",
       "\n",
       "    .dataframe tbody tr th {\n",
       "        vertical-align: top;\n",
       "    }\n",
       "\n",
       "    .dataframe thead th {\n",
       "        text-align: right;\n",
       "    }\n",
       "</style>\n",
       "<table border=\"1\" class=\"dataframe\">\n",
       "  <thead>\n",
       "    <tr style=\"text-align: right;\">\n",
       "      <th></th>\n",
       "      <th>product_id</th>\n",
       "      <th>product_category_name</th>\n",
       "      <th>product_name_lenght</th>\n",
       "      <th>product_description_lenght</th>\n",
       "      <th>product_photos_qty</th>\n",
       "      <th>product_weight_g</th>\n",
       "      <th>product_length_cm</th>\n",
       "      <th>product_height_cm</th>\n",
       "      <th>product_width_cm</th>\n",
       "    </tr>\n",
       "  </thead>\n",
       "  <tbody>\n",
       "    <tr>\n",
       "      <th>0</th>\n",
       "      <td>1e9e8ef04dbcff4541ed26657ea517e5</td>\n",
       "      <td>perfumaria</td>\n",
       "      <td>40.0</td>\n",
       "      <td>287.0</td>\n",
       "      <td>1.0</td>\n",
       "      <td>225.0</td>\n",
       "      <td>16.0</td>\n",
       "      <td>10.0</td>\n",
       "      <td>14.0</td>\n",
       "    </tr>\n",
       "    <tr>\n",
       "      <th>1</th>\n",
       "      <td>3aa071139cb16b67ca9e5dea641aaa2f</td>\n",
       "      <td>artes</td>\n",
       "      <td>44.0</td>\n",
       "      <td>276.0</td>\n",
       "      <td>1.0</td>\n",
       "      <td>1000.0</td>\n",
       "      <td>30.0</td>\n",
       "      <td>18.0</td>\n",
       "      <td>20.0</td>\n",
       "    </tr>\n",
       "    <tr>\n",
       "      <th>2</th>\n",
       "      <td>96bd76ec8810374ed1b65e291975717f</td>\n",
       "      <td>esporte_lazer</td>\n",
       "      <td>46.0</td>\n",
       "      <td>250.0</td>\n",
       "      <td>1.0</td>\n",
       "      <td>154.0</td>\n",
       "      <td>18.0</td>\n",
       "      <td>9.0</td>\n",
       "      <td>15.0</td>\n",
       "    </tr>\n",
       "    <tr>\n",
       "      <th>3</th>\n",
       "      <td>cef67bcfe19066a932b7673e239eb23d</td>\n",
       "      <td>bebes</td>\n",
       "      <td>27.0</td>\n",
       "      <td>261.0</td>\n",
       "      <td>1.0</td>\n",
       "      <td>371.0</td>\n",
       "      <td>26.0</td>\n",
       "      <td>4.0</td>\n",
       "      <td>26.0</td>\n",
       "    </tr>\n",
       "    <tr>\n",
       "      <th>4</th>\n",
       "      <td>9dc1a7de274444849c219cff195d0b71</td>\n",
       "      <td>utilidades_domesticas</td>\n",
       "      <td>37.0</td>\n",
       "      <td>402.0</td>\n",
       "      <td>4.0</td>\n",
       "      <td>625.0</td>\n",
       "      <td>20.0</td>\n",
       "      <td>17.0</td>\n",
       "      <td>13.0</td>\n",
       "    </tr>\n",
       "  </tbody>\n",
       "</table>\n",
       "</div>"
      ],
      "text/plain": [
       "                         product_id  product_category_name  \\\n",
       "0  1e9e8ef04dbcff4541ed26657ea517e5             perfumaria   \n",
       "1  3aa071139cb16b67ca9e5dea641aaa2f                  artes   \n",
       "2  96bd76ec8810374ed1b65e291975717f          esporte_lazer   \n",
       "3  cef67bcfe19066a932b7673e239eb23d                  bebes   \n",
       "4  9dc1a7de274444849c219cff195d0b71  utilidades_domesticas   \n",
       "\n",
       "   product_name_lenght  product_description_lenght  product_photos_qty  \\\n",
       "0                 40.0                       287.0                 1.0   \n",
       "1                 44.0                       276.0                 1.0   \n",
       "2                 46.0                       250.0                 1.0   \n",
       "3                 27.0                       261.0                 1.0   \n",
       "4                 37.0                       402.0                 4.0   \n",
       "\n",
       "   product_weight_g  product_length_cm  product_height_cm  product_width_cm  \n",
       "0             225.0               16.0               10.0              14.0  \n",
       "1            1000.0               30.0               18.0              20.0  \n",
       "2             154.0               18.0                9.0              15.0  \n",
       "3             371.0               26.0                4.0              26.0  \n",
       "4             625.0               20.0               17.0              13.0  "
      ]
     },
     "execution_count": 39,
     "metadata": {},
     "output_type": "execute_result"
    }
   ],
   "source": [
    "print(\"First 5 Rows:\")\n",
    "products.head()"
   ]
  },
  {
   "cell_type": "code",
   "execution_count": null,
   "id": "c4472d78",
   "metadata": {},
   "outputs": [
    {
     "name": "stdout",
     "output_type": "stream",
     "text": [
      "product_id uniqueness: True\n",
      "\n",
      "product_category_name unique values: product_category_name\n",
      "cama_mesa_banho                  3029\n",
      "esporte_lazer                    2867\n",
      "moveis_decoracao                 2657\n",
      "beleza_saude                     2444\n",
      "utilidades_domesticas            2335\n",
      "                                 ... \n",
      "fashion_roupa_infanto_juvenil       5\n",
      "casa_conforto_2                     5\n",
      "pc_gamer                            3\n",
      "seguros_e_servicos                  2\n",
      "cds_dvds_musicais                   1\n",
      "Name: count, Length: 73, dtype: int64\n"
     ]
    }
   ],
   "source": [
    "# Check uniqueness of keys\n",
    "print(\"product_id uniqueness:\", products[\"product_id\"].is_unique)\n",
    "\n",
    "# Check categorical values\n",
    "print(\"\\nproduct_category_name unique values:\", products[\"product_category_name\"].value_counts())"
   ]
  },
  {
   "cell_type": "code",
   "execution_count": null,
   "id": "a60a3e8d",
   "metadata": {},
   "outputs": [
    {
     "data": {
      "image/png": "[encoded data removed]",
      "text/plain": [
       "<Figure size 1500x1000 with 4 Axes>"
      ]
     },
     "metadata": {},
     "output_type": "display_data"
    }
   ],
   "source": [
    "# Histogram of product description lengths, product photo quantities, and weight/size metrics\n",
    "# 3 x 3 plot grid\n",
    "plt.figure(figsize=(15, 10))\n",
    "plt.subplot(2, 2, 1)\n",
    "plt.hist(products[\"product_description_length\"].dropna(), bins=50, color=\"blue\", alpha=0.7)\n",
    "plt.title(\"Product Description Length Distribution\")\n",
    "plt.xlabel(\"Description Length\")\n",
    "plt.ylabel(\"Frequency\")\n",
    "plt.subplot(2, 2, 2)\n",
    "plt.hist(products[\"product_photos_qty\"].dropna(), bins=30, color=\"green\", alpha=0.7)\n",
    "plt.title(\"Product Photos Quantity Distribution\")\n",
    "plt.xlabel(\"Number of Photos\")\n",
    "plt.ylabel(\"Frequency\")\n",
    "plt.subplot(2, 2, 3)\n",
    "plt.hist(products[\"product_weight_g\"].dropna(), bins=50, color=\"orange\", alpha=0.7)\n",
    "plt.title(\"Product Weight Distribution\")\n",
    "plt.xlabel(\"Weight (g)\")\n",
    "plt.ylabel(\"Frequency\")\n",
    "plt.subplot(2, 2, 4)\n",
    "volumes = (products[\"product_length_cm\"] * \n",
    "          products[\"product_width_cm\"] * \n",
    "          products[\"product_height_cm\"]).dropna()\n",
    "plt.hist(volumes, bins=50, color=\"red\", alpha=0.7)\n",
    "plt.title(\"Product Volume Distribution\")\n",
    "plt.xlabel(\"Volume (cm^3)\")\n",
    "plt.ylabel(\"Frequency\")\n",
    "plt.tight_layout()\n",
    "plt.show()"
   ]
  },
  {
   "cell_type": "markdown",
   "id": "0df627a4",
   "metadata": {},
   "source": [
    "### 1.6 `sellers` table"
   ]
  },
  {
   "cell_type": "code",
   "execution_count": null,
   "id": "13cfdefc",
   "metadata": {},
   "outputs": [
    {
     "name": "stdout",
     "output_type": "stream",
     "text": [
      "Dataset Info:\n",
      "<class 'pandas.core.frame.DataFrame'>\n",
      "RangeIndex: 3095 entries, 0 to 3094\n",
      "Data columns (total 4 columns):\n",
      " #   Column                  Non-Null Count  Dtype \n",
      "---  ------                  --------------  ----- \n",
      " 0   seller_id               3095 non-null   object\n",
      " 1   seller_zip_code_prefix  3095 non-null   int64 \n",
      " 2   seller_city             3095 non-null   object\n",
      " 3   seller_state            3095 non-null   object\n",
      "dtypes: int64(1), object(3)\n",
      "memory usage: 96.8+ KB\n",
      "\n",
      "Missing Values:\n",
      "seller_id                 0\n",
      "seller_zip_code_prefix    0\n",
      "seller_city               0\n",
      "seller_state              0\n",
      "dtype: int64\n",
      "\n",
      "Descriptive Statistics:\n"
     ]
    },
    {
     "data": {
      "application/vnd.microsoft.datawrangler.viewer.v0+json": {
       "columns": [
        {
         "name": "index",
         "rawType": "object",
         "type": "string"
        },
        {
         "name": "seller_zip_code_prefix",
         "rawType": "float64",
         "type": "float"
        }
       ],
       "ref": "14274b96-f976-4a30-a0ed-3af21c20ab62",
       "rows": [
        [
         "count",
         "3095.0"
        ],
        [
         "mean",
         "32291.059450726978"
        ],
        [
         "std",
         "32713.453829509002"
        ],
        [
         "min",
         "1001.0"
        ],
        [
         "25%",
         "7093.5"
        ],
        [
         "50%",
         "14940.0"
        ],
        [
         "75%",
         "64552.5"
        ],
        [
         "max",
         "99730.0"
        ]
       ],
       "shape": {
        "columns": 1,
        "rows": 8
       }
      },
      "text/html": [
       "<div>\n",
       "<style scoped>\n",
       "    .dataframe tbody tr th:only-of-type {\n",
       "        vertical-align: middle;\n",
       "    }\n",
       "\n",
       "    .dataframe tbody tr th {\n",
       "        vertical-align: top;\n",
       "    }\n",
       "\n",
       "    .dataframe thead th {\n",
       "        text-align: right;\n",
       "    }\n",
       "</style>\n",
       "<table border=\"1\" class=\"dataframe\">\n",
       "  <thead>\n",
       "    <tr style=\"text-align: right;\">\n",
       "      <th></th>\n",
       "      <th>seller_zip_code_prefix</th>\n",
       "    </tr>\n",
       "  </thead>\n",
       "  <tbody>\n",
       "    <tr>\n",
       "      <th>count</th>\n",
       "      <td>3095.000000</td>\n",
       "    </tr>\n",
       "    <tr>\n",
       "      <th>mean</th>\n",
       "      <td>32291.059451</td>\n",
       "    </tr>\n",
       "    <tr>\n",
       "      <th>std</th>\n",
       "      <td>32713.453830</td>\n",
       "    </tr>\n",
       "    <tr>\n",
       "      <th>min</th>\n",
       "      <td>1001.000000</td>\n",
       "    </tr>\n",
       "    <tr>\n",
       "      <th>25%</th>\n",
       "      <td>7093.500000</td>\n",
       "    </tr>\n",
       "    <tr>\n",
       "      <th>50%</th>\n",
       "      <td>14940.000000</td>\n",
       "    </tr>\n",
       "    <tr>\n",
       "      <th>75%</th>\n",
       "      <td>64552.500000</td>\n",
       "    </tr>\n",
       "    <tr>\n",
       "      <th>max</th>\n",
       "      <td>99730.000000</td>\n",
       "    </tr>\n",
       "  </tbody>\n",
       "</table>\n",
       "</div>"
      ],
      "text/plain": [
       "       seller_zip_code_prefix\n",
       "count             3095.000000\n",
       "mean             32291.059451\n",
       "std              32713.453830\n",
       "min               1001.000000\n",
       "25%               7093.500000\n",
       "50%              14940.000000\n",
       "75%              64552.500000\n",
       "max              99730.000000"
      ]
     },
     "execution_count": 48,
     "metadata": {},
     "output_type": "execute_result"
    }
   ],
   "source": [
    "print(\"Dataset Info:\")\n",
    "sellers.info()\n",
    "print(\"\\nMissing Values:\")\n",
    "print(sellers.isna().sum())\n",
    "print(\"\\nDescriptive Statistics:\")\n",
    "sellers.describe()"
   ]
  },
  {
   "cell_type": "code",
   "execution_count": 50,
   "id": "b88511d5",
   "metadata": {},
   "outputs": [
    {
     "name": "stdout",
     "output_type": "stream",
     "text": [
      "First 5 Rows:\n"
     ]
    },
    {
     "data": {
      "application/vnd.microsoft.datawrangler.viewer.v0+json": {
       "columns": [
        {
         "name": "index",
         "rawType": "int64",
         "type": "integer"
        },
        {
         "name": "seller_id",
         "rawType": "object",
         "type": "string"
        },
        {
         "name": "seller_zip_code_prefix",
         "rawType": "int64",
         "type": "integer"
        },
        {
         "name": "seller_city",
         "rawType": "object",
         "type": "string"
        },
        {
         "name": "seller_state",
         "rawType": "object",
         "type": "string"
        }
       ],
       "ref": "dba0b6d0-b488-4428-911f-844a9682e169",
       "rows": [
        [
         "0",
         "3442f8959a84dea7ee197c632cb2df15",
         "13023",
         "campinas",
         "SP"
        ],
        [
         "1",
         "d1b65fc7debc3361ea86b5f14c68d2e2",
         "13844",
         "mogi guacu",
         "SP"
        ],
        [
         "2",
         "ce3ad9de960102d0677a81f5d0bb7b2d",
         "20031",
         "rio de janeiro",
         "RJ"
        ],
        [
         "3",
         "c0f3eea2e14555b6faeea3dd58c1b1c3",
         "4195",
         "sao paulo",
         "SP"
        ],
        [
         "4",
         "51a04a8a6bdcb23deccc82b0b80742cf",
         "12914",
         "braganca paulista",
         "SP"
        ]
       ],
       "shape": {
        "columns": 4,
        "rows": 5
       }
      },
      "text/html": [
       "<div>\n",
       "<style scoped>\n",
       "    .dataframe tbody tr th:only-of-type {\n",
       "        vertical-align: middle;\n",
       "    }\n",
       "\n",
       "    .dataframe tbody tr th {\n",
       "        vertical-align: top;\n",
       "    }\n",
       "\n",
       "    .dataframe thead th {\n",
       "        text-align: right;\n",
       "    }\n",
       "</style>\n",
       "<table border=\"1\" class=\"dataframe\">\n",
       "  <thead>\n",
       "    <tr style=\"text-align: right;\">\n",
       "      <th></th>\n",
       "      <th>seller_id</th>\n",
       "      <th>seller_zip_code_prefix</th>\n",
       "      <th>seller_city</th>\n",
       "      <th>seller_state</th>\n",
       "    </tr>\n",
       "  </thead>\n",
       "  <tbody>\n",
       "    <tr>\n",
       "      <th>0</th>\n",
       "      <td>3442f8959a84dea7ee197c632cb2df15</td>\n",
       "      <td>13023</td>\n",
       "      <td>campinas</td>\n",
       "      <td>SP</td>\n",
       "    </tr>\n",
       "    <tr>\n",
       "      <th>1</th>\n",
       "      <td>d1b65fc7debc3361ea86b5f14c68d2e2</td>\n",
       "      <td>13844</td>\n",
       "      <td>mogi guacu</td>\n",
       "      <td>SP</td>\n",
       "    </tr>\n",
       "    <tr>\n",
       "      <th>2</th>\n",
       "      <td>ce3ad9de960102d0677a81f5d0bb7b2d</td>\n",
       "      <td>20031</td>\n",
       "      <td>rio de janeiro</td>\n",
       "      <td>RJ</td>\n",
       "    </tr>\n",
       "    <tr>\n",
       "      <th>3</th>\n",
       "      <td>c0f3eea2e14555b6faeea3dd58c1b1c3</td>\n",
       "      <td>4195</td>\n",
       "      <td>sao paulo</td>\n",
       "      <td>SP</td>\n",
       "    </tr>\n",
       "    <tr>\n",
       "      <th>4</th>\n",
       "      <td>51a04a8a6bdcb23deccc82b0b80742cf</td>\n",
       "      <td>12914</td>\n",
       "      <td>braganca paulista</td>\n",
       "      <td>SP</td>\n",
       "    </tr>\n",
       "  </tbody>\n",
       "</table>\n",
       "</div>"
      ],
      "text/plain": [
       "                          seller_id  seller_zip_code_prefix  \\\n",
       "0  3442f8959a84dea7ee197c632cb2df15                   13023   \n",
       "1  d1b65fc7debc3361ea86b5f14c68d2e2                   13844   \n",
       "2  ce3ad9de960102d0677a81f5d0bb7b2d                   20031   \n",
       "3  c0f3eea2e14555b6faeea3dd58c1b1c3                    4195   \n",
       "4  51a04a8a6bdcb23deccc82b0b80742cf                   12914   \n",
       "\n",
       "         seller_city seller_state  \n",
       "0           campinas           SP  \n",
       "1         mogi guacu           SP  \n",
       "2     rio de janeiro           RJ  \n",
       "3          sao paulo           SP  \n",
       "4  braganca paulista           SP  "
      ]
     },
     "execution_count": 50,
     "metadata": {},
     "output_type": "execute_result"
    }
   ],
   "source": [
    "print(\"First 5 Rows:\")\n",
    "sellers.head()"
   ]
  },
  {
   "cell_type": "code",
   "execution_count": 59,
   "id": "c6855d76",
   "metadata": {},
   "outputs": [
    {
     "name": "stdout",
     "output_type": "stream",
     "text": [
      "seller_id uniqueness: True\n",
      "\n",
      "seller_city unique values: seller_city\n",
      "sao paulo              694\n",
      "curitiba               127\n",
      "rio de janeiro          96\n",
      "belo horizonte          68\n",
      "ribeirao preto          52\n",
      "                      ... \n",
      "taruma                   1\n",
      "s jose do rio preto      1\n",
      "domingos martins         1\n",
      "messias targino          1\n",
      "leme                     1\n",
      "Name: count, Length: 611, dtype: int64\n",
      "\n",
      "seller_state unique values: seller_state\n",
      "SP    1849\n",
      "PR     349\n",
      "MG     244\n",
      "SC     190\n",
      "RJ     171\n",
      "RS     129\n",
      "GO      40\n",
      "DF      30\n",
      "ES      23\n",
      "BA      19\n",
      "CE      13\n",
      "PE       9\n",
      "PB       6\n",
      "RN       5\n",
      "MS       5\n",
      "MT       4\n",
      "RO       2\n",
      "SE       2\n",
      "PI       1\n",
      "AC       1\n",
      "MA       1\n",
      "AM       1\n",
      "PA       1\n",
      "Name: count, dtype: int64\n"
     ]
    }
   ],
   "source": [
    "# Check uniqueness of keys\n",
    "print(\"seller_id uniqueness:\", sellers[\"seller_id\"].is_unique)\n",
    "\n",
    "# Check categorical values\n",
    "print(\"\\nseller_city unique values:\", sellers[\"seller_city\"].value_counts())\n",
    "print(\"\\nseller_state unique values:\", sellers[\"seller_state\"].value_counts())"
   ]
  },
  {
   "cell_type": "markdown",
   "id": "78eee987",
   "metadata": {},
   "source": [
    "### 1.7 `customers` table"
   ]
  },
  {
   "cell_type": "code",
   "execution_count": 60,
   "id": "90dbde2a",
   "metadata": {},
   "outputs": [
    {
     "name": "stdout",
     "output_type": "stream",
     "text": [
      "Dataset Info:\n",
      "<class 'pandas.core.frame.DataFrame'>\n",
      "RangeIndex: 99441 entries, 0 to 99440\n",
      "Data columns (total 5 columns):\n",
      " #   Column                    Non-Null Count  Dtype \n",
      "---  ------                    --------------  ----- \n",
      " 0   customer_id               99441 non-null  object\n",
      " 1   customer_unique_id        99441 non-null  object\n",
      " 2   customer_zip_code_prefix  99441 non-null  int64 \n",
      " 3   customer_city             99441 non-null  object\n",
      " 4   customer_state            99441 non-null  object\n",
      "dtypes: int64(1), object(4)\n",
      "memory usage: 3.8+ MB\n",
      "\n",
      "Missing Values:\n",
      "customer_id                 0\n",
      "customer_unique_id          0\n",
      "customer_zip_code_prefix    0\n",
      "customer_city               0\n",
      "customer_state              0\n",
      "dtype: int64\n",
      "\n",
      "Descriptive Statistics:\n"
     ]
    },
    {
     "data": {
      "application/vnd.microsoft.datawrangler.viewer.v0+json": {
       "columns": [
        {
         "name": "index",
         "rawType": "object",
         "type": "string"
        },
        {
         "name": "customer_zip_code_prefix",
         "rawType": "float64",
         "type": "float"
        }
       ],
       "ref": "72d79f13-4c1b-43c4-a84f-45e8c13e39d7",
       "rows": [
        [
         "count",
         "99441.0"
        ],
        [
         "mean",
         "35137.47458291851"
        ],
        [
         "std",
         "29797.938996206114"
        ],
        [
         "min",
         "1003.0"
        ],
        [
         "25%",
         "11347.0"
        ],
        [
         "50%",
         "24416.0"
        ],
        [
         "75%",
         "58900.0"
        ],
        [
         "max",
         "99990.0"
        ]
       ],
       "shape": {
        "columns": 1,
        "rows": 8
       }
      },
      "text/html": [
       "<div>\n",
       "<style scoped>\n",
       "    .dataframe tbody tr th:only-of-type {\n",
       "        vertical-align: middle;\n",
       "    }\n",
       "\n",
       "    .dataframe tbody tr th {\n",
       "        vertical-align: top;\n",
       "    }\n",
       "\n",
       "    .dataframe thead th {\n",
       "        text-align: right;\n",
       "    }\n",
       "</style>\n",
       "<table border=\"1\" class=\"dataframe\">\n",
       "  <thead>\n",
       "    <tr style=\"text-align: right;\">\n",
       "      <th></th>\n",
       "      <th>customer_zip_code_prefix</th>\n",
       "    </tr>\n",
       "  </thead>\n",
       "  <tbody>\n",
       "    <tr>\n",
       "      <th>count</th>\n",
       "      <td>99441.000000</td>\n",
       "    </tr>\n",
       "    <tr>\n",
       "      <th>mean</th>\n",
       "      <td>35137.474583</td>\n",
       "    </tr>\n",
       "    <tr>\n",
       "      <th>std</th>\n",
       "      <td>29797.938996</td>\n",
       "    </tr>\n",
       "    <tr>\n",
       "      <th>min</th>\n",
       "      <td>1003.000000</td>\n",
       "    </tr>\n",
       "    <tr>\n",
       "      <th>25%</th>\n",
       "      <td>11347.000000</td>\n",
       "    </tr>\n",
       "    <tr>\n",
       "      <th>50%</th>\n",
       "      <td>24416.000000</td>\n",
       "    </tr>\n",
       "    <tr>\n",
       "      <th>75%</th>\n",
       "      <td>58900.000000</td>\n",
       "    </tr>\n",
       "    <tr>\n",
       "      <th>max</th>\n",
       "      <td>99990.000000</td>\n",
       "    </tr>\n",
       "  </tbody>\n",
       "</table>\n",
       "</div>"
      ],
      "text/plain": [
       "       customer_zip_code_prefix\n",
       "count              99441.000000\n",
       "mean               35137.474583\n",
       "std                29797.938996\n",
       "min                 1003.000000\n",
       "25%                11347.000000\n",
       "50%                24416.000000\n",
       "75%                58900.000000\n",
       "max                99990.000000"
      ]
     },
     "execution_count": 60,
     "metadata": {},
     "output_type": "execute_result"
    }
   ],
   "source": [
    "print(\"Dataset Info:\")\n",
    "customers.info()\n",
    "print(\"\\nMissing Values:\")\n",
    "print(customers.isna().sum())\n",
    "print(\"\\nDescriptive Statistics:\")\n",
    "customers.describe()"
   ]
  },
  {
   "cell_type": "code",
   "execution_count": 61,
   "id": "b9323666",
   "metadata": {},
   "outputs": [
    {
     "name": "stdout",
     "output_type": "stream",
     "text": [
      "First 5 Rows:\n"
     ]
    },
    {
     "data": {
      "application/vnd.microsoft.datawrangler.viewer.v0+json": {
       "columns": [
        {
         "name": "index",
         "rawType": "int64",
         "type": "integer"
        },
        {
         "name": "customer_id",
         "rawType": "object",
         "type": "string"
        },
        {
         "name": "customer_unique_id",
         "rawType": "object",
         "type": "string"
        },
        {
         "name": "customer_zip_code_prefix",
         "rawType": "int64",
         "type": "integer"
        },
        {
         "name": "customer_city",
         "rawType": "object",
         "type": "string"
        },
        {
         "name": "customer_state",
         "rawType": "object",
         "type": "string"
        }
       ],
       "ref": "65a311ea-4d8d-4f91-854d-2c67ba9bfbcc",
       "rows": [
        [
         "0",
         "06b8999e2fba1a1fbc88172c00ba8bc7",
         "861eff4711a542e4b93843c6dd7febb0",
         "14409",
         "franca",
         "SP"
        ],
        [
         "1",
         "18955e83d337fd6b2def6b18a428ac77",
         "290c77bc529b7ac935b93aa66c333dc3",
         "9790",
         "sao bernardo do campo",
         "SP"
        ],
        [
         "2",
         "4e7b3e00288586ebd08712fdd0374a03",
         "060e732b5b29e8181a18229c7b0b2b5e",
         "1151",
         "sao paulo",
         "SP"
        ],
        [
         "3",
         "b2b6027bc5c5109e529d4dc6358b12c3",
         "259dac757896d24d7702b9acbbff3f3c",
         "8775",
         "mogi das cruzes",
         "SP"
        ],
        [
         "4",
         "4f2d8ab171c80ec8364f7c12e35b23ad",
         "345ecd01c38d18a9036ed96c73b8d066",
         "13056",
         "campinas",
         "SP"
        ]
       ],
       "shape": {
        "columns": 5,
        "rows": 5
       }
      },
      "text/html": [
       "<div>\n",
       "<style scoped>\n",
       "    .dataframe tbody tr th:only-of-type {\n",
       "        vertical-align: middle;\n",
       "    }\n",
       "\n",
       "    .dataframe tbody tr th {\n",
       "        vertical-align: top;\n",
       "    }\n",
       "\n",
       "    .dataframe thead th {\n",
       "        text-align: right;\n",
       "    }\n",
       "</style>\n",
       "<table border=\"1\" class=\"dataframe\">\n",
       "  <thead>\n",
       "    <tr style=\"text-align: right;\">\n",
       "      <th></th>\n",
       "      <th>customer_id</th>\n",
       "      <th>customer_unique_id</th>\n",
       "      <th>customer_zip_code_prefix</th>\n",
       "      <th>customer_city</th>\n",
       "      <th>customer_state</th>\n",
       "    </tr>\n",
       "  </thead>\n",
       "  <tbody>\n",
       "    <tr>\n",
       "      <th>0</th>\n",
       "      <td>06b8999e2fba1a1fbc88172c00ba8bc7</td>\n",
       "      <td>861eff4711a542e4b93843c6dd7febb0</td>\n",
       "      <td>14409</td>\n",
       "      <td>franca</td>\n",
       "      <td>SP</td>\n",
       "    </tr>\n",
       "    <tr>\n",
       "      <th>1</th>\n",
       "      <td>18955e83d337fd6b2def6b18a428ac77</td>\n",
       "      <td>290c77bc529b7ac935b93aa66c333dc3</td>\n",
       "      <td>9790</td>\n",
       "      <td>sao bernardo do campo</td>\n",
       "      <td>SP</td>\n",
       "    </tr>\n",
       "    <tr>\n",
       "      <th>2</th>\n",
       "      <td>4e7b3e00288586ebd08712fdd0374a03</td>\n",
       "      <td>060e732b5b29e8181a18229c7b0b2b5e</td>\n",
       "      <td>1151</td>\n",
       "      <td>sao paulo</td>\n",
       "      <td>SP</td>\n",
       "    </tr>\n",
       "    <tr>\n",
       "      <th>3</th>\n",
       "      <td>b2b6027bc5c5109e529d4dc6358b12c3</td>\n",
       "      <td>259dac757896d24d7702b9acbbff3f3c</td>\n",
       "      <td>8775</td>\n",
       "      <td>mogi das cruzes</td>\n",
       "      <td>SP</td>\n",
       "    </tr>\n",
       "    <tr>\n",
       "      <th>4</th>\n",
       "      <td>4f2d8ab171c80ec8364f7c12e35b23ad</td>\n",
       "      <td>345ecd01c38d18a9036ed96c73b8d066</td>\n",
       "      <td>13056</td>\n",
       "      <td>campinas</td>\n",
       "      <td>SP</td>\n",
       "    </tr>\n",
       "  </tbody>\n",
       "</table>\n",
       "</div>"
      ],
      "text/plain": [
       "                        customer_id                customer_unique_id  \\\n",
       "0  06b8999e2fba1a1fbc88172c00ba8bc7  861eff4711a542e4b93843c6dd7febb0   \n",
       "1  18955e83d337fd6b2def6b18a428ac77  290c77bc529b7ac935b93aa66c333dc3   \n",
       "2  4e7b3e00288586ebd08712fdd0374a03  060e732b5b29e8181a18229c7b0b2b5e   \n",
       "3  b2b6027bc5c5109e529d4dc6358b12c3  259dac757896d24d7702b9acbbff3f3c   \n",
       "4  4f2d8ab171c80ec8364f7c12e35b23ad  345ecd01c38d18a9036ed96c73b8d066   \n",
       "\n",
       "   customer_zip_code_prefix          customer_city customer_state  \n",
       "0                     14409                 franca             SP  \n",
       "1                      9790  sao bernardo do campo             SP  \n",
       "2                      1151              sao paulo             SP  \n",
       "3                      8775        mogi das cruzes             SP  \n",
       "4                     13056               campinas             SP  "
      ]
     },
     "execution_count": 61,
     "metadata": {},
     "output_type": "execute_result"
    }
   ],
   "source": [
    "print(\"First 5 Rows:\")\n",
    "customers.head()"
   ]
  },
  {
   "cell_type": "code",
   "execution_count": 63,
   "id": "e8053939",
   "metadata": {},
   "outputs": [
    {
     "name": "stdout",
     "output_type": "stream",
     "text": [
      "customer_id uniqueness: True\n",
      "customer_unique_id uniqueness: False\n",
      "\n",
      "customer_city unique values: customer_city\n",
      "sao paulo            15540\n",
      "rio de janeiro        6882\n",
      "belo horizonte        2773\n",
      "brasilia              2131\n",
      "curitiba              1521\n",
      "                     ...  \n",
      "bequimao                 1\n",
      "andarai                  1\n",
      "vargem grande            1\n",
      "curvelandia              1\n",
      "eugenio de castro        1\n",
      "Name: count, Length: 4119, dtype: int64\n",
      "\n",
      "customer_state unique values: customer_state\n",
      "SP    41746\n",
      "RJ    12852\n",
      "MG    11635\n",
      "RS     5466\n",
      "PR     5045\n",
      "SC     3637\n",
      "BA     3380\n",
      "DF     2140\n",
      "ES     2033\n",
      "GO     2020\n",
      "PE     1652\n",
      "CE     1336\n",
      "PA      975\n",
      "MT      907\n",
      "MA      747\n",
      "MS      715\n",
      "PB      536\n",
      "PI      495\n",
      "RN      485\n",
      "AL      413\n",
      "SE      350\n",
      "TO      280\n",
      "RO      253\n",
      "AM      148\n",
      "AC       81\n",
      "AP       68\n",
      "RR       46\n",
      "Name: count, dtype: int64\n"
     ]
    }
   ],
   "source": [
    "# Check uniqueness of keys\n",
    "print(\"customer_id uniqueness:\", customers[\"customer_id\"].is_unique)\n",
    "print(\"customer_unique_id uniqueness:\", customers[\"customer_unique_id\"].is_unique)\n",
    "\n",
    "# Check categorical values\n",
    "print(\"\\ncustomer_city unique values:\", customers[\"customer_city\"].value_counts())\n",
    "print(\"\\ncustomer_state unique values:\", customers[\"customer_state\"].value_counts())"
   ]
  },
  {
   "cell_type": "markdown",
   "id": "9211ae29",
   "metadata": {},
   "source": [
    "### 1.8 `geolocation` table"
   ]
  },
  {
   "cell_type": "code",
   "execution_count": 64,
   "id": "7330364d",
   "metadata": {},
   "outputs": [
    {
     "name": "stdout",
     "output_type": "stream",
     "text": [
      "Dataset Info:\n",
      "<class 'pandas.core.frame.DataFrame'>\n",
      "RangeIndex: 1000163 entries, 0 to 1000162\n",
      "Data columns (total 5 columns):\n",
      " #   Column                       Non-Null Count    Dtype  \n",
      "---  ------                       --------------    -----  \n",
      " 0   geolocation_zip_code_prefix  1000163 non-null  int64  \n",
      " 1   geolocation_lat              1000163 non-null  float64\n",
      " 2   geolocation_lng              1000163 non-null  float64\n",
      " 3   geolocation_city             1000163 non-null  object \n",
      " 4   geolocation_state            1000163 non-null  object \n",
      "dtypes: float64(2), int64(1), object(2)\n",
      "memory usage: 38.2+ MB\n",
      "\n",
      "Missing Values:\n",
      "geolocation_zip_code_prefix    0\n",
      "geolocation_lat                0\n",
      "geolocation_lng                0\n",
      "geolocation_city               0\n",
      "geolocation_state              0\n",
      "dtype: int64\n",
      "\n",
      "Descriptive Statistics:\n"
     ]
    },
    {
     "data": {
      "application/vnd.microsoft.datawrangler.viewer.v0+json": {
       "columns": [
        {
         "name": "index",
         "rawType": "object",
         "type": "string"
        },
        {
         "name": "geolocation_zip_code_prefix",
         "rawType": "float64",
         "type": "float"
        },
        {
         "name": "geolocation_lat",
         "rawType": "float64",
         "type": "float"
        },
        {
         "name": "geolocation_lng",
         "rawType": "float64",
         "type": "float"
        }
       ],
       "ref": "5034dcdb-5921-497b-85d8-33af885d4888",
       "rows": [
        [
         "count",
         "1000163.0",
         "1000163.0",
         "1000163.0"
        ],
        [
         "mean",
         "36574.16646586607",
         "-21.176152910383962",
         "-46.390541320935775"
        ],
        [
         "std",
         "30549.335710319858",
         "5.715866308822852",
         "4.269748306619603"
        ],
        [
         "min",
         "1001.0",
         "-36.6053744107061",
         "-101.46676644931476"
        ],
        [
         "25%",
         "11075.0",
         "-23.60354554038031",
         "-48.573172180526896"
        ],
        [
         "50%",
         "26530.0",
         "-22.91937749486411",
         "-46.63787866960149"
        ],
        [
         "75%",
         "63504.0",
         "-19.97962033957529",
         "-43.7677088028139"
        ],
        [
         "max",
         "99990.0",
         "45.06593318269697",
         "121.10539381057764"
        ]
       ],
       "shape": {
        "columns": 3,
        "rows": 8
       }
      },
      "text/html": [
       "<div>\n",
       "<style scoped>\n",
       "    .dataframe tbody tr th:only-of-type {\n",
       "        vertical-align: middle;\n",
       "    }\n",
       "\n",
       "    .dataframe tbody tr th {\n",
       "        vertical-align: top;\n",
       "    }\n",
       "\n",
       "    .dataframe thead th {\n",
       "        text-align: right;\n",
       "    }\n",
       "</style>\n",
       "<table border=\"1\" class=\"dataframe\">\n",
       "  <thead>\n",
       "    <tr style=\"text-align: right;\">\n",
       "      <th></th>\n",
       "      <th>geolocation_zip_code_prefix</th>\n",
       "      <th>geolocation_lat</th>\n",
       "      <th>geolocation_lng</th>\n",
       "    </tr>\n",
       "  </thead>\n",
       "  <tbody>\n",
       "    <tr>\n",
       "      <th>count</th>\n",
       "      <td>1.000163e+06</td>\n",
       "      <td>1.000163e+06</td>\n",
       "      <td>1.000163e+06</td>\n",
       "    </tr>\n",
       "    <tr>\n",
       "      <th>mean</th>\n",
       "      <td>3.657417e+04</td>\n",
       "      <td>-2.117615e+01</td>\n",
       "      <td>-4.639054e+01</td>\n",
       "    </tr>\n",
       "    <tr>\n",
       "      <th>std</th>\n",
       "      <td>3.054934e+04</td>\n",
       "      <td>5.715866e+00</td>\n",
       "      <td>4.269748e+00</td>\n",
       "    </tr>\n",
       "    <tr>\n",
       "      <th>min</th>\n",
       "      <td>1.001000e+03</td>\n",
       "      <td>-3.660537e+01</td>\n",
       "      <td>-1.014668e+02</td>\n",
       "    </tr>\n",
       "    <tr>\n",
       "      <th>25%</th>\n",
       "      <td>1.107500e+04</td>\n",
       "      <td>-2.360355e+01</td>\n",
       "      <td>-4.857317e+01</td>\n",
       "    </tr>\n",
       "    <tr>\n",
       "      <th>50%</th>\n",
       "      <td>2.653000e+04</td>\n",
       "      <td>-2.291938e+01</td>\n",
       "      <td>-4.663788e+01</td>\n",
       "    </tr>\n",
       "    <tr>\n",
       "      <th>75%</th>\n",
       "      <td>6.350400e+04</td>\n",
       "      <td>-1.997962e+01</td>\n",
       "      <td>-4.376771e+01</td>\n",
       "    </tr>\n",
       "    <tr>\n",
       "      <th>max</th>\n",
       "      <td>9.999000e+04</td>\n",
       "      <td>4.506593e+01</td>\n",
       "      <td>1.211054e+02</td>\n",
       "    </tr>\n",
       "  </tbody>\n",
       "</table>\n",
       "</div>"
      ],
      "text/plain": [
       "       geolocation_zip_code_prefix  geolocation_lat  geolocation_lng\n",
       "count                 1.000163e+06     1.000163e+06     1.000163e+06\n",
       "mean                  3.657417e+04    -2.117615e+01    -4.639054e+01\n",
       "std                   3.054934e+04     5.715866e+00     4.269748e+00\n",
       "min                   1.001000e+03    -3.660537e+01    -1.014668e+02\n",
       "25%                   1.107500e+04    -2.360355e+01    -4.857317e+01\n",
       "50%                   2.653000e+04    -2.291938e+01    -4.663788e+01\n",
       "75%                   6.350400e+04    -1.997962e+01    -4.376771e+01\n",
       "max                   9.999000e+04     4.506593e+01     1.211054e+02"
      ]
     },
     "execution_count": 64,
     "metadata": {},
     "output_type": "execute_result"
    }
   ],
   "source": [
    "print(\"Dataset Info:\")\n",
    "geolocation.info()\n",
    "print(\"\\nMissing Values:\")\n",
    "print(geolocation.isna().sum())\n",
    "print(\"\\nDescriptive Statistics:\")\n",
    "geolocation.describe()"
   ]
  },
  {
   "cell_type": "code",
   "execution_count": 65,
   "id": "f39403b2",
   "metadata": {},
   "outputs": [
    {
     "name": "stdout",
     "output_type": "stream",
     "text": [
      "First 5 Rows:\n"
     ]
    },
    {
     "data": {
      "application/vnd.microsoft.datawrangler.viewer.v0+json": {
       "columns": [
        {
         "name": "index",
         "rawType": "int64",
         "type": "integer"
        },
        {
         "name": "geolocation_zip_code_prefix",
         "rawType": "int64",
         "type": "integer"
        },
        {
         "name": "geolocation_lat",
         "rawType": "float64",
         "type": "float"
        },
        {
         "name": "geolocation_lng",
         "rawType": "float64",
         "type": "float"
        },
        {
         "name": "geolocation_city",
         "rawType": "object",
         "type": "string"
        },
        {
         "name": "geolocation_state",
         "rawType": "object",
         "type": "string"
        }
       ],
       "ref": "80ac70c5-986a-4c0c-a610-28849d7d785d",
       "rows": [
        [
         "0",
         "1037",
         "-23.54562128115268",
         "-46.63929204800168",
         "sao paulo",
         "SP"
        ],
        [
         "1",
         "1046",
         "-23.546081127035535",
         "-46.64482029837157",
         "sao paulo",
         "SP"
        ],
        [
         "2",
         "1046",
         "-23.54612896641469",
         "-46.64295148361138",
         "sao paulo",
         "SP"
        ],
        [
         "3",
         "1041",
         "-23.5443921648681",
         "-46.63949930627844",
         "sao paulo",
         "SP"
        ],
        [
         "4",
         "1035",
         "-23.541577961711493",
         "-46.64160722329613",
         "sao paulo",
         "SP"
        ]
       ],
       "shape": {
        "columns": 5,
        "rows": 5
       }
      },
      "text/html": [
       "<div>\n",
       "<style scoped>\n",
       "    .dataframe tbody tr th:only-of-type {\n",
       "        vertical-align: middle;\n",
       "    }\n",
       "\n",
       "    .dataframe tbody tr th {\n",
       "        vertical-align: top;\n",
       "    }\n",
       "\n",
       "    .dataframe thead th {\n",
       "        text-align: right;\n",
       "    }\n",
       "</style>\n",
       "<table border=\"1\" class=\"dataframe\">\n",
       "  <thead>\n",
       "    <tr style=\"text-align: right;\">\n",
       "      <th></th>\n",
       "      <th>geolocation_zip_code_prefix</th>\n",
       "      <th>geolocation_lat</th>\n",
       "      <th>geolocation_lng</th>\n",
       "      <th>geolocation_city</th>\n",
       "      <th>geolocation_state</th>\n",
       "    </tr>\n",
       "  </thead>\n",
       "  <tbody>\n",
       "    <tr>\n",
       "      <th>0</th>\n",
       "      <td>1037</td>\n",
       "      <td>-23.545621</td>\n",
       "      <td>-46.639292</td>\n",
       "      <td>sao paulo</td>\n",
       "      <td>SP</td>\n",
       "    </tr>\n",
       "    <tr>\n",
       "      <th>1</th>\n",
       "      <td>1046</td>\n",
       "      <td>-23.546081</td>\n",
       "      <td>-46.644820</td>\n",
       "      <td>sao paulo</td>\n",
       "      <td>SP</td>\n",
       "    </tr>\n",
       "    <tr>\n",
       "      <th>2</th>\n",
       "      <td>1046</td>\n",
       "      <td>-23.546129</td>\n",
       "      <td>-46.642951</td>\n",
       "      <td>sao paulo</td>\n",
       "      <td>SP</td>\n",
       "    </tr>\n",
       "    <tr>\n",
       "      <th>3</th>\n",
       "      <td>1041</td>\n",
       "      <td>-23.544392</td>\n",
       "      <td>-46.639499</td>\n",
       "      <td>sao paulo</td>\n",
       "      <td>SP</td>\n",
       "    </tr>\n",
       "    <tr>\n",
       "      <th>4</th>\n",
       "      <td>1035</td>\n",
       "      <td>-23.541578</td>\n",
       "      <td>-46.641607</td>\n",
       "      <td>sao paulo</td>\n",
       "      <td>SP</td>\n",
       "    </tr>\n",
       "  </tbody>\n",
       "</table>\n",
       "</div>"
      ],
      "text/plain": [
       "   geolocation_zip_code_prefix  geolocation_lat  geolocation_lng  \\\n",
       "0                         1037       -23.545621       -46.639292   \n",
       "1                         1046       -23.546081       -46.644820   \n",
       "2                         1046       -23.546129       -46.642951   \n",
       "3                         1041       -23.544392       -46.639499   \n",
       "4                         1035       -23.541578       -46.641607   \n",
       "\n",
       "  geolocation_city geolocation_state  \n",
       "0        sao paulo                SP  \n",
       "1        sao paulo                SP  \n",
       "2        sao paulo                SP  \n",
       "3        sao paulo                SP  \n",
       "4        sao paulo                SP  "
      ]
     },
     "execution_count": 65,
     "metadata": {},
     "output_type": "execute_result"
    }
   ],
   "source": [
    "print(\"First 5 Rows:\")\n",
    "geolocation.head()"
   ]
  },
  {
   "cell_type": "code",
   "execution_count": 70,
   "id": "ae0ade1f",
   "metadata": {},
   "outputs": [
    {
     "name": "stdout",
     "output_type": "stream",
     "text": [
      "geolocation_zip_code_prefix uniqueness: False\n",
      "geolocation_latitude uniqueness: False\n",
      "geolocation_longitude uniqueness: False\n",
      "geolocation_city uniqueness: False\n",
      "geolocation_state uniqueness: False\n",
      "Number of duplicate composite keys (geolocation_zip_code_prefix, geolocation_lat, geolocation_lng, geolocation_city, geolocation_state): 261831\n",
      "\n",
      "geolocation_city unique values: geolocation_city\n",
      "sao paulo               135800\n",
      "rio de janeiro           62151\n",
      "belo horizonte           27805\n",
      "são paulo                24918\n",
      "curitiba                 16593\n",
      "                         ...  \n",
      "jacuípe                      1\n",
      "mar vermelho                 1\n",
      "quebrangulo                  1\n",
      "poço das trincheiras         1\n",
      "poxim                        1\n",
      "Name: count, Length: 8011, dtype: int64\n",
      "\n",
      "geolocation_state unique values: geolocation_state\n",
      "SP    404268\n",
      "MG    126336\n",
      "RJ    121169\n",
      "RS     61851\n",
      "PR     57859\n",
      "SC     38328\n",
      "BA     36045\n",
      "GO     20139\n",
      "ES     16748\n",
      "PE     16432\n",
      "DF     12986\n",
      "MT     12031\n",
      "CE     11674\n",
      "PA     10853\n",
      "MS     10431\n",
      "MA      7853\n",
      "PB      5538\n",
      "RN      5041\n",
      "PI      4549\n",
      "AL      4183\n",
      "TO      3576\n",
      "SE      3563\n",
      "RO      3478\n",
      "AM      2432\n",
      "AC      1301\n",
      "AP       853\n",
      "RR       646\n",
      "Name: count, dtype: int64\n"
     ]
    }
   ],
   "source": [
    "# Check uniqueness of keys\n",
    "print(\"geolocation_zip_code_prefix uniqueness:\", geolocation[\"geolocation_zip_code_prefix\"].is_unique)\n",
    "print(\"geolocation_latitude uniqueness:\", geolocation[\"geolocation_lat\"].is_unique)\n",
    "print(\"geolocation_longitude uniqueness:\", geolocation[\"geolocation_lng\"].is_unique)\n",
    "print(\"geolocation_city uniqueness:\", geolocation[\"geolocation_city\"].is_unique)\n",
    "print(\"geolocation_state uniqueness:\", geolocation[\"geolocation_state\"].is_unique)\n",
    "composite_duplicates = geolocation.duplicated(subset=[\"geolocation_zip_code_prefix\", \"geolocation_lat\", \"geolocation_lng\", \"geolocation_city\", \"geolocation_state\"]).sum()\n",
    "print(f\"Number of duplicate composite keys (geolocation_zip_code_prefix, geolocation_lat, geolocation_lng, geolocation_city, geolocation_state): {composite_duplicates}\")\n",
    "\n",
    "# Check categorical values\n",
    "print(\"\\ngeolocation_city unique values:\", geolocation[\"geolocation_city\"].value_counts())\n",
    "print(\"\\ngeolocation_state unique values:\", geolocation[\"geolocation_state\"].value_counts())"
   ]
  },
  {
   "cell_type": "code",
   "execution_count": null,
   "id": "8d63fa1c",
   "metadata": {},
   "outputs": [],
   "source": []
  },
  {
   "cell_type": "code",
   "execution_count": null,
   "id": "313dceb5",
   "metadata": {},
   "outputs": [],
   "source": []
  }
 ],
 "metadata": {
  "kernelspec": {
   "display_name": "brazilian-ecommerce",
   "language": "python",
   "name": "python3"
  },
  "language_info": {
   "codemirror_mode": {
    "name": "ipython",
    "version": 3
   },
   "file_extension": ".py",
   "mimetype": "text/x-python",
   "name": "python",
   "nbconvert_exporter": "python",
   "pygments_lexer": "ipython3",
   "version": "3.12.11"
  }
 },
 "nbformat": 4,
 "nbformat_minor": 5
}
