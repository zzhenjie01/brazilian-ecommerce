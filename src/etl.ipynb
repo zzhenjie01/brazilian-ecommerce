{
 "cells": [
  {
   "cell_type": "markdown",
   "id": "a3dcf759",
   "metadata": {},
   "source": [
    "# Brazilian E-Commerce Dataset"
   ]
  },
  {
   "cell_type": "code",
   "execution_count": 2,
   "id": "b87f67e9",
   "metadata": {},
   "outputs": [],
   "source": [
    "import pandas as pd\n",
    "import matplotlib.pyplot as plt\n",
    "\n",
    "# Load all the CSVs into DataFrames\n",
    "orders = pd.read_csv(\"../data/raw/olist_orders_dataset.csv\")\n",
    "order_reviews = pd.read_csv(\"../data/raw/olist_order_reviews_dataset.csv\")\n",
    "order_payments = pd.read_csv(\"../data/raw/olist_order_payments_dataset.csv\")\n",
    "order_items = pd.read_csv(\"../data/raw/olist_order_items_dataset.csv\")\n",
    "products = pd.read_csv(\"../data/raw/olist_products_dataset.csv\")\n",
    "sellers = pd.read_csv(\"../data/raw/olist_sellers_dataset.csv\")\n",
    "customers = pd.read_csv(\"../data/raw/olist_customers_dataset.csv\")\n",
    "geolocation = pd.read_csv(\"../data/raw/olist_geolocation_dataset.csv\")\n",
    "product_category_name_translation = pd.read_csv(\"../data/raw/product_category_name_translation.csv\")"
   ]
  },
  {
   "cell_type": "markdown",
   "id": "36bcb7a2",
   "metadata": {},
   "source": [
    "## 2 Extract, Transform, Load\n",
    "\n",
    "### 2.1 Build Dimension Tables"
   ]
  },
  {
   "cell_type": "code",
   "execution_count": 3,
   "id": "f310e9ba",
   "metadata": {},
   "outputs": [
    {
     "name": "stdout",
     "output_type": "stream",
     "text": [
      "(27912, 5)\n"
     ]
    },
    {
     "data": {
      "application/vnd.microsoft.datawrangler.viewer.v0+json": {
       "columns": [
        {
         "name": "index",
         "rawType": "int64",
         "type": "integer"
        },
        {
         "name": "zip_code_prefix",
         "rawType": "int64",
         "type": "integer"
        },
        {
         "name": "city",
         "rawType": "object",
         "type": "string"
        },
        {
         "name": "state",
         "rawType": "object",
         "type": "string"
        },
        {
         "name": "lat",
         "rawType": "float64",
         "type": "float"
        },
        {
         "name": "lng",
         "rawType": "float64",
         "type": "float"
        }
       ],
       "ref": "79534b31-98d9-40e8-8a7a-58757a0bfe26",
       "rows": [
        [
         "0",
         "1001",
         "sao paulo",
         "SP",
         "-23.550312214055925",
         "-46.63403045780417"
        ],
        [
         "1",
         "1001",
         "são paulo",
         "SP",
         "-23.549997981678136",
         "-46.63406019929013"
        ],
        [
         "2",
         "1002",
         "sao paulo",
         "SP",
         "-23.54826028365169",
         "-46.63535265262277"
        ],
        [
         "3",
         "1002",
         "são paulo",
         "SP",
         "-23.54464133666111",
         "-46.633179792399986"
        ],
        [
         "4",
         "1003",
         "sao paulo",
         "SP",
         "-23.548991491863838",
         "-46.63565342364827"
        ]
       ],
       "shape": {
        "columns": 5,
        "rows": 5
       }
      },
      "text/html": [
       "<div>\n",
       "<style scoped>\n",
       "    .dataframe tbody tr th:only-of-type {\n",
       "        vertical-align: middle;\n",
       "    }\n",
       "\n",
       "    .dataframe tbody tr th {\n",
       "        vertical-align: top;\n",
       "    }\n",
       "\n",
       "    .dataframe thead th {\n",
       "        text-align: right;\n",
       "    }\n",
       "</style>\n",
       "<table border=\"1\" class=\"dataframe\">\n",
       "  <thead>\n",
       "    <tr style=\"text-align: right;\">\n",
       "      <th></th>\n",
       "      <th>zip_code_prefix</th>\n",
       "      <th>city</th>\n",
       "      <th>state</th>\n",
       "      <th>lat</th>\n",
       "      <th>lng</th>\n",
       "    </tr>\n",
       "  </thead>\n",
       "  <tbody>\n",
       "    <tr>\n",
       "      <th>0</th>\n",
       "      <td>1001</td>\n",
       "      <td>sao paulo</td>\n",
       "      <td>SP</td>\n",
       "      <td>-23.550312</td>\n",
       "      <td>-46.634030</td>\n",
       "    </tr>\n",
       "    <tr>\n",
       "      <th>1</th>\n",
       "      <td>1001</td>\n",
       "      <td>são paulo</td>\n",
       "      <td>SP</td>\n",
       "      <td>-23.549998</td>\n",
       "      <td>-46.634060</td>\n",
       "    </tr>\n",
       "    <tr>\n",
       "      <th>2</th>\n",
       "      <td>1002</td>\n",
       "      <td>sao paulo</td>\n",
       "      <td>SP</td>\n",
       "      <td>-23.548260</td>\n",
       "      <td>-46.635353</td>\n",
       "    </tr>\n",
       "    <tr>\n",
       "      <th>3</th>\n",
       "      <td>1002</td>\n",
       "      <td>são paulo</td>\n",
       "      <td>SP</td>\n",
       "      <td>-23.544641</td>\n",
       "      <td>-46.633180</td>\n",
       "    </tr>\n",
       "    <tr>\n",
       "      <th>4</th>\n",
       "      <td>1003</td>\n",
       "      <td>sao paulo</td>\n",
       "      <td>SP</td>\n",
       "      <td>-23.548991</td>\n",
       "      <td>-46.635653</td>\n",
       "    </tr>\n",
       "  </tbody>\n",
       "</table>\n",
       "</div>"
      ],
      "text/plain": [
       "   zip_code_prefix       city state        lat        lng\n",
       "0             1001  sao paulo    SP -23.550312 -46.634030\n",
       "1             1001  são paulo    SP -23.549998 -46.634060\n",
       "2             1002  sao paulo    SP -23.548260 -46.635353\n",
       "3             1002  são paulo    SP -23.544641 -46.633180\n",
       "4             1003  sao paulo    SP -23.548991 -46.635653"
      ]
     },
     "execution_count": 3,
     "metadata": {},
     "output_type": "execute_result"
    }
   ],
   "source": [
    "# EDA showed that geolocation has many duplicate rows\n",
    "geolocation_unique = geolocation.drop_duplicates()\n",
    "\n",
    "# Group by (zip_code_prefix, city, state) and take mean coordinates\n",
    "geolocation_cleaned = (\n",
    "    geolocation_unique.groupby([\"geolocation_zip_code_prefix\", \"geolocation_city\", \"geolocation_state\"])\n",
    "    .agg(\n",
    "        {\n",
    "            \"geolocation_lat\": \"mean\",\n",
    "            \"geolocation_lng\": \"mean\"\n",
    "        }\n",
    "    )\n",
    "    .reset_index()\n",
    ")\n",
    "\n",
    "# Rename for clarity\n",
    "geolocation_cleaned.rename(columns={\n",
    "    \"geolocation_zip_code_prefix\": \"zip_code_prefix\",\n",
    "    \"geolocation_lat\": \"lat\",\n",
    "    \"geolocation_lng\": \"lng\",\n",
    "    \"geolocation_city\": \"city\",\n",
    "    \"geolocation_state\": \"state\"\n",
    "}, inplace=True)\n",
    "\n",
    "print(geolocation_cleaned.shape)\n",
    "geolocation_cleaned.head()"
   ]
  },
  {
   "cell_type": "markdown",
   "metadata": {},
   "source": [
    "#### 2.1.1 `dim_customers` table"
   ]
  },
  {
   "cell_type": "code",
   "execution_count": 4,
   "id": "6b7800c5",
   "metadata": {},
   "outputs": [
    {
     "name": "stdout",
     "output_type": "stream",
     "text": [
      "(99441, 8)\n"
     ]
    },
    {
     "data": {
      "application/vnd.microsoft.datawrangler.viewer.v0+json": {
       "columns": [
        {
         "name": "index",
         "rawType": "int64",
         "type": "integer"
        },
        {
         "name": "customer_key",
         "rawType": "int64",
         "type": "integer"
        },
        {
         "name": "customer_id",
         "rawType": "object",
         "type": "string"
        },
        {
         "name": "customer_unique_id",
         "rawType": "object",
         "type": "string"
        },
        {
         "name": "customer_zip_code_prefix",
         "rawType": "int64",
         "type": "integer"
        },
        {
         "name": "customer_city",
         "rawType": "object",
         "type": "string"
        },
        {
         "name": "customer_state",
         "rawType": "object",
         "type": "string"
        },
        {
         "name": "lat",
         "rawType": "float64",
         "type": "float"
        },
        {
         "name": "lng",
         "rawType": "float64",
         "type": "float"
        }
       ],
       "ref": "0d0ffae2-7d23-4ea7-9fb1-668e4bb07ecc",
       "rows": [
        [
         "0",
         "1",
         "06b8999e2fba1a1fbc88172c00ba8bc7",
         "861eff4711a542e4b93843c6dd7febb0",
         "14409",
         "franca",
         "SP",
         "-20.49927275425701",
         "-47.3966577972267"
        ],
        [
         "1",
         "2",
         "18955e83d337fd6b2def6b18a428ac77",
         "290c77bc529b7ac935b93aa66c333dc3",
         "9790",
         "sao bernardo do campo",
         "SP",
         "-23.72838385675921",
         "-46.542342042378564"
        ],
        [
         "2",
         "3",
         "4e7b3e00288586ebd08712fdd0374a03",
         "060e732b5b29e8181a18229c7b0b2b5e",
         "1151",
         "sao paulo",
         "SP",
         "-23.53128834115932",
         "-46.656714236971524"
        ],
        [
         "3",
         "4",
         "b2b6027bc5c5109e529d4dc6358b12c3",
         "259dac757896d24d7702b9acbbff3f3c",
         "8775",
         "mogi das cruzes",
         "SP",
         "-23.500669672539757",
         "-46.186348470532444"
        ],
        [
         "4",
         "5",
         "4f2d8ab171c80ec8364f7c12e35b23ad",
         "345ecd01c38d18a9036ed96c73b8d066",
         "13056",
         "campinas",
         "SP",
         "-22.97570796346973",
         "-47.143140186599155"
        ]
       ],
       "shape": {
        "columns": 8,
        "rows": 5
       }
      },
      "text/html": [
       "<div>\n",
       "<style scoped>\n",
       "    .dataframe tbody tr th:only-of-type {\n",
       "        vertical-align: middle;\n",
       "    }\n",
       "\n",
       "    .dataframe tbody tr th {\n",
       "        vertical-align: top;\n",
       "    }\n",
       "\n",
       "    .dataframe thead th {\n",
       "        text-align: right;\n",
       "    }\n",
       "</style>\n",
       "<table border=\"1\" class=\"dataframe\">\n",
       "  <thead>\n",
       "    <tr style=\"text-align: right;\">\n",
       "      <th></th>\n",
       "      <th>customer_key</th>\n",
       "      <th>customer_id</th>\n",
       "      <th>customer_unique_id</th>\n",
       "      <th>customer_zip_code_prefix</th>\n",
       "      <th>customer_city</th>\n",
       "      <th>customer_state</th>\n",
       "      <th>lat</th>\n",
       "      <th>lng</th>\n",
       "    </tr>\n",
       "  </thead>\n",
       "  <tbody>\n",
       "    <tr>\n",
       "      <th>0</th>\n",
       "      <td>1</td>\n",
       "      <td>06b8999e2fba1a1fbc88172c00ba8bc7</td>\n",
       "      <td>861eff4711a542e4b93843c6dd7febb0</td>\n",
       "      <td>14409</td>\n",
       "      <td>franca</td>\n",
       "      <td>SP</td>\n",
       "      <td>-20.499273</td>\n",
       "      <td>-47.396658</td>\n",
       "    </tr>\n",
       "    <tr>\n",
       "      <th>1</th>\n",
       "      <td>2</td>\n",
       "      <td>18955e83d337fd6b2def6b18a428ac77</td>\n",
       "      <td>290c77bc529b7ac935b93aa66c333dc3</td>\n",
       "      <td>9790</td>\n",
       "      <td>sao bernardo do campo</td>\n",
       "      <td>SP</td>\n",
       "      <td>-23.728384</td>\n",
       "      <td>-46.542342</td>\n",
       "    </tr>\n",
       "    <tr>\n",
       "      <th>2</th>\n",
       "      <td>3</td>\n",
       "      <td>4e7b3e00288586ebd08712fdd0374a03</td>\n",
       "      <td>060e732b5b29e8181a18229c7b0b2b5e</td>\n",
       "      <td>1151</td>\n",
       "      <td>sao paulo</td>\n",
       "      <td>SP</td>\n",
       "      <td>-23.531288</td>\n",
       "      <td>-46.656714</td>\n",
       "    </tr>\n",
       "    <tr>\n",
       "      <th>3</th>\n",
       "      <td>4</td>\n",
       "      <td>b2b6027bc5c5109e529d4dc6358b12c3</td>\n",
       "      <td>259dac757896d24d7702b9acbbff3f3c</td>\n",
       "      <td>8775</td>\n",
       "      <td>mogi das cruzes</td>\n",
       "      <td>SP</td>\n",
       "      <td>-23.500670</td>\n",
       "      <td>-46.186348</td>\n",
       "    </tr>\n",
       "    <tr>\n",
       "      <th>4</th>\n",
       "      <td>5</td>\n",
       "      <td>4f2d8ab171c80ec8364f7c12e35b23ad</td>\n",
       "      <td>345ecd01c38d18a9036ed96c73b8d066</td>\n",
       "      <td>13056</td>\n",
       "      <td>campinas</td>\n",
       "      <td>SP</td>\n",
       "      <td>-22.975708</td>\n",
       "      <td>-47.143140</td>\n",
       "    </tr>\n",
       "  </tbody>\n",
       "</table>\n",
       "</div>"
      ],
      "text/plain": [
       "   customer_key                       customer_id  \\\n",
       "0             1  06b8999e2fba1a1fbc88172c00ba8bc7   \n",
       "1             2  18955e83d337fd6b2def6b18a428ac77   \n",
       "2             3  4e7b3e00288586ebd08712fdd0374a03   \n",
       "3             4  b2b6027bc5c5109e529d4dc6358b12c3   \n",
       "4             5  4f2d8ab171c80ec8364f7c12e35b23ad   \n",
       "\n",
       "                 customer_unique_id  customer_zip_code_prefix  \\\n",
       "0  861eff4711a542e4b93843c6dd7febb0                     14409   \n",
       "1  290c77bc529b7ac935b93aa66c333dc3                      9790   \n",
       "2  060e732b5b29e8181a18229c7b0b2b5e                      1151   \n",
       "3  259dac757896d24d7702b9acbbff3f3c                      8775   \n",
       "4  345ecd01c38d18a9036ed96c73b8d066                     13056   \n",
       "\n",
       "           customer_city customer_state        lat        lng  \n",
       "0                 franca             SP -20.499273 -47.396658  \n",
       "1  sao bernardo do campo             SP -23.728384 -46.542342  \n",
       "2              sao paulo             SP -23.531288 -46.656714  \n",
       "3        mogi das cruzes             SP -23.500670 -46.186348  \n",
       "4               campinas             SP -22.975708 -47.143140  "
      ]
     },
     "execution_count": 4,
     "metadata": {},
     "output_type": "execute_result"
    }
   ],
   "source": [
    "# Drop duplicates based on customer_id\n",
    "dim_customers = customers.drop_duplicates(subset=[\"customer_id\"]).copy()\n",
    "# Add surrogate key\n",
    "dim_customers[\"customer_key\"] = dim_customers.index + 1\n",
    "# Join with geolocation on to get lat/lng\n",
    "dim_customers = dim_customers.merge(\n",
    "    geolocation_cleaned,\n",
    "    left_on=[\"customer_zip_code_prefix\", \"customer_city\", \"customer_state\"],\n",
    "    right_on=[\"zip_code_prefix\", \"city\", \"state\"],\n",
    "    how=\"left\"\n",
    ")\n",
    "# Reorder and drop redundant columns\n",
    "dim_customers = dim_customers[[\n",
    "    \"customer_key\", \"customer_id\", \"customer_unique_id\", \"customer_zip_code_prefix\",\n",
    "    \"customer_city\", \"customer_state\", \"lat\", \"lng\"\n",
    "]]\n",
    "\n",
    "print(dim_customers.shape)\n",
    "dim_customers.head()"
   ]
  },
  {
   "cell_type": "markdown",
   "id": "b8f0e9bf",
   "metadata": {},
   "source": [
    "#### 2.2.2 `dim_sellers` table"
   ]
  },
  {
   "cell_type": "code",
   "execution_count": 5,
   "id": "38f1af44",
   "metadata": {},
   "outputs": [
    {
     "name": "stdout",
     "output_type": "stream",
     "text": [
      "(3095, 7)\n"
     ]
    },
    {
     "data": {
      "application/vnd.microsoft.datawrangler.viewer.v0+json": {
       "columns": [
        {
         "name": "index",
         "rawType": "int64",
         "type": "integer"
        },
        {
         "name": "seller_key",
         "rawType": "int64",
         "type": "integer"
        },
        {
         "name": "seller_id",
         "rawType": "object",
         "type": "string"
        },
        {
         "name": "seller_zip_code_prefix",
         "rawType": "int64",
         "type": "integer"
        },
        {
         "name": "seller_city",
         "rawType": "object",
         "type": "string"
        },
        {
         "name": "seller_state",
         "rawType": "object",
         "type": "string"
        },
        {
         "name": "lat",
         "rawType": "float64",
         "type": "float"
        },
        {
         "name": "lng",
         "rawType": "float64",
         "type": "float"
        }
       ],
       "ref": "4d0d5447-3fc1-467e-a369-0b9fe12c3b2a",
       "rows": [
        [
         "0",
         "1",
         "3442f8959a84dea7ee197c632cb2df15",
         "13023",
         "campinas",
         "SP",
         "-22.893317190455804",
         "-47.060596205366885"
        ],
        [
         "1",
         "2",
         "d1b65fc7debc3361ea86b5f14c68d2e2",
         "13844",
         "mogi guacu",
         "SP",
         "-22.381828013486405",
         "-46.94822435315409"
        ],
        [
         "2",
         "3",
         "ce3ad9de960102d0677a81f5d0bb7b2d",
         "20031",
         "rio de janeiro",
         "RJ",
         "-22.90944638719964",
         "-43.18023952743163"
        ],
        [
         "3",
         "4",
         "c0f3eea2e14555b6faeea3dd58c1b1c3",
         "4195",
         "sao paulo",
         "SP",
         "-23.65711137374736",
         "-46.61255565443634"
        ],
        [
         "4",
         "5",
         "51a04a8a6bdcb23deccc82b0b80742cf",
         "12914",
         "braganca paulista",
         "SP",
         "-22.96485705077535",
         "-46.53408008397754"
        ]
       ],
       "shape": {
        "columns": 7,
        "rows": 5
       }
      },
      "text/html": [
       "<div>\n",
       "<style scoped>\n",
       "    .dataframe tbody tr th:only-of-type {\n",
       "        vertical-align: middle;\n",
       "    }\n",
       "\n",
       "    .dataframe tbody tr th {\n",
       "        vertical-align: top;\n",
       "    }\n",
       "\n",
       "    .dataframe thead th {\n",
       "        text-align: right;\n",
       "    }\n",
       "</style>\n",
       "<table border=\"1\" class=\"dataframe\">\n",
       "  <thead>\n",
       "    <tr style=\"text-align: right;\">\n",
       "      <th></th>\n",
       "      <th>seller_key</th>\n",
       "      <th>seller_id</th>\n",
       "      <th>seller_zip_code_prefix</th>\n",
       "      <th>seller_city</th>\n",
       "      <th>seller_state</th>\n",
       "      <th>lat</th>\n",
       "      <th>lng</th>\n",
       "    </tr>\n",
       "  </thead>\n",
       "  <tbody>\n",
       "    <tr>\n",
       "      <th>0</th>\n",
       "      <td>1</td>\n",
       "      <td>3442f8959a84dea7ee197c632cb2df15</td>\n",
       "      <td>13023</td>\n",
       "      <td>campinas</td>\n",
       "      <td>SP</td>\n",
       "      <td>-22.893317</td>\n",
       "      <td>-47.060596</td>\n",
       "    </tr>\n",
       "    <tr>\n",
       "      <th>1</th>\n",
       "      <td>2</td>\n",
       "      <td>d1b65fc7debc3361ea86b5f14c68d2e2</td>\n",
       "      <td>13844</td>\n",
       "      <td>mogi guacu</td>\n",
       "      <td>SP</td>\n",
       "      <td>-22.381828</td>\n",
       "      <td>-46.948224</td>\n",
       "    </tr>\n",
       "    <tr>\n",
       "      <th>2</th>\n",
       "      <td>3</td>\n",
       "      <td>ce3ad9de960102d0677a81f5d0bb7b2d</td>\n",
       "      <td>20031</td>\n",
       "      <td>rio de janeiro</td>\n",
       "      <td>RJ</td>\n",
       "      <td>-22.909446</td>\n",
       "      <td>-43.180240</td>\n",
       "    </tr>\n",
       "    <tr>\n",
       "      <th>3</th>\n",
       "      <td>4</td>\n",
       "      <td>c0f3eea2e14555b6faeea3dd58c1b1c3</td>\n",
       "      <td>4195</td>\n",
       "      <td>sao paulo</td>\n",
       "      <td>SP</td>\n",
       "      <td>-23.657111</td>\n",
       "      <td>-46.612556</td>\n",
       "    </tr>\n",
       "    <tr>\n",
       "      <th>4</th>\n",
       "      <td>5</td>\n",
       "      <td>51a04a8a6bdcb23deccc82b0b80742cf</td>\n",
       "      <td>12914</td>\n",
       "      <td>braganca paulista</td>\n",
       "      <td>SP</td>\n",
       "      <td>-22.964857</td>\n",
       "      <td>-46.534080</td>\n",
       "    </tr>\n",
       "  </tbody>\n",
       "</table>\n",
       "</div>"
      ],
      "text/plain": [
       "   seller_key                         seller_id  seller_zip_code_prefix  \\\n",
       "0           1  3442f8959a84dea7ee197c632cb2df15                   13023   \n",
       "1           2  d1b65fc7debc3361ea86b5f14c68d2e2                   13844   \n",
       "2           3  ce3ad9de960102d0677a81f5d0bb7b2d                   20031   \n",
       "3           4  c0f3eea2e14555b6faeea3dd58c1b1c3                    4195   \n",
       "4           5  51a04a8a6bdcb23deccc82b0b80742cf                   12914   \n",
       "\n",
       "         seller_city seller_state        lat        lng  \n",
       "0           campinas           SP -22.893317 -47.060596  \n",
       "1         mogi guacu           SP -22.381828 -46.948224  \n",
       "2     rio de janeiro           RJ -22.909446 -43.180240  \n",
       "3          sao paulo           SP -23.657111 -46.612556  \n",
       "4  braganca paulista           SP -22.964857 -46.534080  "
      ]
     },
     "execution_count": 5,
     "metadata": {},
     "output_type": "execute_result"
    }
   ],
   "source": [
    "# Drop duplicates based on seller_id\n",
    "dim_sellers = sellers.drop_duplicates(subset=[\"seller_id\"]).copy()\n",
    "# Add surrogate key\n",
    "dim_sellers[\"seller_key\"] = dim_sellers.index + 1\n",
    "# Join with geolocation on to get lat/lng\n",
    "dim_sellers = dim_sellers.merge(\n",
    "    geolocation_cleaned,\n",
    "    left_on=[\"seller_zip_code_prefix\", \"seller_city\", \"seller_state\"],\n",
    "    right_on=[\"zip_code_prefix\", \"city\", \"state\"],\n",
    "    how=\"left\"\n",
    ")\n",
    "# Reorder and drop redundant columns\n",
    "dim_sellers = dim_sellers[[\n",
    "    \"seller_key\", \"seller_id\", \"seller_zip_code_prefix\",\n",
    "    \"seller_city\", \"seller_state\", \"lat\", \"lng\"\n",
    "]]\n",
    "\n",
    "print(dim_sellers.shape)\n",
    "dim_sellers.head()"
   ]
  },
  {
   "cell_type": "markdown",
   "id": "f0408fa2",
   "metadata": {},
   "source": [
    "#### 2.2.3 `dim_products` table"
   ]
  },
  {
   "cell_type": "code",
   "execution_count": 6,
   "id": "ac795ac8",
   "metadata": {},
   "outputs": [],
   "source": [
    "# Dictionary that maps Portuguese category names to English\n",
    "product_category_name_translation_dict = dict(zip(\n",
    "    product_category_name_translation[\"product_category_name\"],\n",
    "    product_category_name_translation[\"product_category_name_english\"]\n",
    "))"
   ]
  },
  {
   "cell_type": "code",
   "execution_count": 7,
   "id": "b8946343",
   "metadata": {},
   "outputs": [
    {
     "name": "stdout",
     "output_type": "stream",
     "text": [
      "(32951, 10)\n"
     ]
    },
    {
     "data": {
      "application/vnd.microsoft.datawrangler.viewer.v0+json": {
       "columns": [
        {
         "name": "index",
         "rawType": "int64",
         "type": "integer"
        },
        {
         "name": "product_key",
         "rawType": "int64",
         "type": "integer"
        },
        {
         "name": "product_id",
         "rawType": "object",
         "type": "string"
        },
        {
         "name": "product_category_name",
         "rawType": "object",
         "type": "string"
        },
        {
         "name": "product_name_length",
         "rawType": "float64",
         "type": "float"
        },
        {
         "name": "product_description_length",
         "rawType": "float64",
         "type": "float"
        },
        {
         "name": "product_photos_qty",
         "rawType": "float64",
         "type": "float"
        },
        {
         "name": "product_weight_g",
         "rawType": "float64",
         "type": "float"
        },
        {
         "name": "product_length_cm",
         "rawType": "float64",
         "type": "float"
        },
        {
         "name": "product_height_cm",
         "rawType": "float64",
         "type": "float"
        },
        {
         "name": "product_width_cm",
         "rawType": "float64",
         "type": "float"
        }
       ],
       "ref": "a4d2739f-a128-4cf2-9b2d-11a8f5159310",
       "rows": [
        [
         "0",
         "1",
         "1e9e8ef04dbcff4541ed26657ea517e5",
         "perfumery",
         "40.0",
         "287.0",
         "1.0",
         "225.0",
         "16.0",
         "10.0",
         "14.0"
        ],
        [
         "1",
         "2",
         "3aa071139cb16b67ca9e5dea641aaa2f",
         "art",
         "44.0",
         "276.0",
         "1.0",
         "1000.0",
         "30.0",
         "18.0",
         "20.0"
        ],
        [
         "2",
         "3",
         "96bd76ec8810374ed1b65e291975717f",
         "sports_leisure",
         "46.0",
         "250.0",
         "1.0",
         "154.0",
         "18.0",
         "9.0",
         "15.0"
        ],
        [
         "3",
         "4",
         "cef67bcfe19066a932b7673e239eb23d",
         "baby",
         "27.0",
         "261.0",
         "1.0",
         "371.0",
         "26.0",
         "4.0",
         "26.0"
        ],
        [
         "4",
         "5",
         "9dc1a7de274444849c219cff195d0b71",
         "housewares",
         "37.0",
         "402.0",
         "4.0",
         "625.0",
         "20.0",
         "17.0",
         "13.0"
        ]
       ],
       "shape": {
        "columns": 10,
        "rows": 5
       }
      },
      "text/html": [
       "<div>\n",
       "<style scoped>\n",
       "    .dataframe tbody tr th:only-of-type {\n",
       "        vertical-align: middle;\n",
       "    }\n",
       "\n",
       "    .dataframe tbody tr th {\n",
       "        vertical-align: top;\n",
       "    }\n",
       "\n",
       "    .dataframe thead th {\n",
       "        text-align: right;\n",
       "    }\n",
       "</style>\n",
       "<table border=\"1\" class=\"dataframe\">\n",
       "  <thead>\n",
       "    <tr style=\"text-align: right;\">\n",
       "      <th></th>\n",
       "      <th>product_key</th>\n",
       "      <th>product_id</th>\n",
       "      <th>product_category_name</th>\n",
       "      <th>product_name_length</th>\n",
       "      <th>product_description_length</th>\n",
       "      <th>product_photos_qty</th>\n",
       "      <th>product_weight_g</th>\n",
       "      <th>product_length_cm</th>\n",
       "      <th>product_height_cm</th>\n",
       "      <th>product_width_cm</th>\n",
       "    </tr>\n",
       "  </thead>\n",
       "  <tbody>\n",
       "    <tr>\n",
       "      <th>0</th>\n",
       "      <td>1</td>\n",
       "      <td>1e9e8ef04dbcff4541ed26657ea517e5</td>\n",
       "      <td>perfumery</td>\n",
       "      <td>40.0</td>\n",
       "      <td>287.0</td>\n",
       "      <td>1.0</td>\n",
       "      <td>225.0</td>\n",
       "      <td>16.0</td>\n",
       "      <td>10.0</td>\n",
       "      <td>14.0</td>\n",
       "    </tr>\n",
       "    <tr>\n",
       "      <th>1</th>\n",
       "      <td>2</td>\n",
       "      <td>3aa071139cb16b67ca9e5dea641aaa2f</td>\n",
       "      <td>art</td>\n",
       "      <td>44.0</td>\n",
       "      <td>276.0</td>\n",
       "      <td>1.0</td>\n",
       "      <td>1000.0</td>\n",
       "      <td>30.0</td>\n",
       "      <td>18.0</td>\n",
       "      <td>20.0</td>\n",
       "    </tr>\n",
       "    <tr>\n",
       "      <th>2</th>\n",
       "      <td>3</td>\n",
       "      <td>96bd76ec8810374ed1b65e291975717f</td>\n",
       "      <td>sports_leisure</td>\n",
       "      <td>46.0</td>\n",
       "      <td>250.0</td>\n",
       "      <td>1.0</td>\n",
       "      <td>154.0</td>\n",
       "      <td>18.0</td>\n",
       "      <td>9.0</td>\n",
       "      <td>15.0</td>\n",
       "    </tr>\n",
       "    <tr>\n",
       "      <th>3</th>\n",
       "      <td>4</td>\n",
       "      <td>cef67bcfe19066a932b7673e239eb23d</td>\n",
       "      <td>baby</td>\n",
       "      <td>27.0</td>\n",
       "      <td>261.0</td>\n",
       "      <td>1.0</td>\n",
       "      <td>371.0</td>\n",
       "      <td>26.0</td>\n",
       "      <td>4.0</td>\n",
       "      <td>26.0</td>\n",
       "    </tr>\n",
       "    <tr>\n",
       "      <th>4</th>\n",
       "      <td>5</td>\n",
       "      <td>9dc1a7de274444849c219cff195d0b71</td>\n",
       "      <td>housewares</td>\n",
       "      <td>37.0</td>\n",
       "      <td>402.0</td>\n",
       "      <td>4.0</td>\n",
       "      <td>625.0</td>\n",
       "      <td>20.0</td>\n",
       "      <td>17.0</td>\n",
       "      <td>13.0</td>\n",
       "    </tr>\n",
       "  </tbody>\n",
       "</table>\n",
       "</div>"
      ],
      "text/plain": [
       "   product_key                        product_id product_category_name  \\\n",
       "0            1  1e9e8ef04dbcff4541ed26657ea517e5             perfumery   \n",
       "1            2  3aa071139cb16b67ca9e5dea641aaa2f                   art   \n",
       "2            3  96bd76ec8810374ed1b65e291975717f        sports_leisure   \n",
       "3            4  cef67bcfe19066a932b7673e239eb23d                  baby   \n",
       "4            5  9dc1a7de274444849c219cff195d0b71            housewares   \n",
       "\n",
       "   product_name_length  product_description_length  product_photos_qty  \\\n",
       "0                 40.0                       287.0                 1.0   \n",
       "1                 44.0                       276.0                 1.0   \n",
       "2                 46.0                       250.0                 1.0   \n",
       "3                 27.0                       261.0                 1.0   \n",
       "4                 37.0                       402.0                 4.0   \n",
       "\n",
       "   product_weight_g  product_length_cm  product_height_cm  product_width_cm  \n",
       "0             225.0               16.0               10.0              14.0  \n",
       "1            1000.0               30.0               18.0              20.0  \n",
       "2             154.0               18.0                9.0              15.0  \n",
       "3             371.0               26.0                4.0              26.0  \n",
       "4             625.0               20.0               17.0              13.0  "
      ]
     },
     "execution_count": 7,
     "metadata": {},
     "output_type": "execute_result"
    }
   ],
   "source": [
    "# Drop duplicates based on product_id\n",
    "dim_products = products.drop_duplicates(subset=[\"product_id\"]).copy()\n",
    "# Add surrogate key\n",
    "dim_products[\"product_key\"] = dim_products.index + 1\n",
    "# Rename misspelled columns\n",
    "dim_products.rename(columns={\n",
    "    \"product_name_lenght\": \"product_name_length\",\n",
    "    \"product_description_lenght\": \"product_description_length\"\n",
    "}, inplace=True)\n",
    "# Translate category names to English\n",
    "dim_products[\"product_category_name\"] = dim_products[\"product_category_name\"].replace(product_category_name_translation_dict)\n",
    "# Reorder columns\n",
    "dim_products = dim_products[[\n",
    "    \"product_key\", \"product_id\", \"product_category_name\",\n",
    "    \"product_name_length\", \"product_description_length\", \"product_photos_qty\",\n",
    "    \"product_weight_g\", \"product_length_cm\", \"product_height_cm\", \"product_width_cm\"\n",
    "]]\n",
    "\n",
    "print(dim_products.shape)\n",
    "dim_products.head()"
   ]
  },
  {
   "cell_type": "markdown",
   "id": "cf2730ce",
   "metadata": {},
   "source": [
    "### 2.3 Builing Fact Tables\n",
    "\n",
    "#### `fact_order_items` table"
   ]
  },
  {
   "cell_type": "code",
   "execution_count": 8,
   "id": "767d180a",
   "metadata": {},
   "outputs": [
    {
     "name": "stdout",
     "output_type": "stream",
     "text": [
      "(99440, 3)\n"
     ]
    },
    {
     "data": {
      "application/vnd.microsoft.datawrangler.viewer.v0+json": {
       "columns": [
        {
         "name": "index",
         "rawType": "int64",
         "type": "integer"
        },
        {
         "name": "order_id",
         "rawType": "object",
         "type": "string"
        },
        {
         "name": "total_payment_value",
         "rawType": "float64",
         "type": "float"
        },
        {
         "name": "payment_installments",
         "rawType": "int64",
         "type": "integer"
        }
       ],
       "ref": "a5d523dd-e2d7-4127-9a0a-17cdee24002d",
       "rows": [
        [
         "0",
         "00010242fe8c5a6d1ba2dd792cb16214",
         "72.19",
         "2"
        ],
        [
         "1",
         "00018f77f2f0320c557190d7a144bdd3",
         "259.83",
         "3"
        ],
        [
         "2",
         "000229ec398224ef6ca0657da4fc703e",
         "216.87",
         "5"
        ],
        [
         "3",
         "00024acbcdf0a6daa1e931b038114c75",
         "25.78",
         "2"
        ],
        [
         "4",
         "00042b26cf59d7ce69dfabb4e55b4fd9",
         "218.04",
         "3"
        ]
       ],
       "shape": {
        "columns": 3,
        "rows": 5
       }
      },
      "text/html": [
       "<div>\n",
       "<style scoped>\n",
       "    .dataframe tbody tr th:only-of-type {\n",
       "        vertical-align: middle;\n",
       "    }\n",
       "\n",
       "    .dataframe tbody tr th {\n",
       "        vertical-align: top;\n",
       "    }\n",
       "\n",
       "    .dataframe thead th {\n",
       "        text-align: right;\n",
       "    }\n",
       "</style>\n",
       "<table border=\"1\" class=\"dataframe\">\n",
       "  <thead>\n",
       "    <tr style=\"text-align: right;\">\n",
       "      <th></th>\n",
       "      <th>order_id</th>\n",
       "      <th>total_payment_value</th>\n",
       "      <th>payment_installments</th>\n",
       "    </tr>\n",
       "  </thead>\n",
       "  <tbody>\n",
       "    <tr>\n",
       "      <th>0</th>\n",
       "      <td>00010242fe8c5a6d1ba2dd792cb16214</td>\n",
       "      <td>72.19</td>\n",
       "      <td>2</td>\n",
       "    </tr>\n",
       "    <tr>\n",
       "      <th>1</th>\n",
       "      <td>00018f77f2f0320c557190d7a144bdd3</td>\n",
       "      <td>259.83</td>\n",
       "      <td>3</td>\n",
       "    </tr>\n",
       "    <tr>\n",
       "      <th>2</th>\n",
       "      <td>000229ec398224ef6ca0657da4fc703e</td>\n",
       "      <td>216.87</td>\n",
       "      <td>5</td>\n",
       "    </tr>\n",
       "    <tr>\n",
       "      <th>3</th>\n",
       "      <td>00024acbcdf0a6daa1e931b038114c75</td>\n",
       "      <td>25.78</td>\n",
       "      <td>2</td>\n",
       "    </tr>\n",
       "    <tr>\n",
       "      <th>4</th>\n",
       "      <td>00042b26cf59d7ce69dfabb4e55b4fd9</td>\n",
       "      <td>218.04</td>\n",
       "      <td>3</td>\n",
       "    </tr>\n",
       "  </tbody>\n",
       "</table>\n",
       "</div>"
      ],
      "text/plain": [
       "                           order_id  total_payment_value  payment_installments\n",
       "0  00010242fe8c5a6d1ba2dd792cb16214                72.19                     2\n",
       "1  00018f77f2f0320c557190d7a144bdd3               259.83                     3\n",
       "2  000229ec398224ef6ca0657da4fc703e               216.87                     5\n",
       "3  00024acbcdf0a6daa1e931b038114c75                25.78                     2\n",
       "4  00042b26cf59d7ce69dfabb4e55b4fd9               218.04                     3"
      ]
     },
     "execution_count": 8,
     "metadata": {},
     "output_type": "execute_result"
    }
   ],
   "source": [
    "# Aggregate installment payments by order_id\n",
    "payments_agg = order_payments.groupby(\"order_id\").agg({\n",
    "    \"payment_value\": \"sum\",\n",
    "    \"payment_installments\": \"max\"\n",
    "}).reset_index()\n",
    "payments_agg.rename(columns={\n",
    "    \"payment_value\": \"total_payment_value\"\n",
    "}, inplace=True)\n",
    "\n",
    "print(payments_agg.shape)\n",
    "payments_agg.head()"
   ]
  },
  {
   "cell_type": "code",
   "execution_count": 9,
   "id": "cc875847",
   "metadata": {},
   "outputs": [
    {
     "name": "stdout",
     "output_type": "stream",
     "text": [
      "(98673, 2)\n"
     ]
    },
    {
     "data": {
      "application/vnd.microsoft.datawrangler.viewer.v0+json": {
       "columns": [
        {
         "name": "index",
         "rawType": "int64",
         "type": "integer"
        },
        {
         "name": "order_id",
         "rawType": "object",
         "type": "string"
        },
        {
         "name": "average_review_score",
         "rawType": "float64",
         "type": "float"
        }
       ],
       "ref": "b47c2429-cc7c-4908-94e2-04844452969a",
       "rows": [
        [
         "0",
         "00010242fe8c5a6d1ba2dd792cb16214",
         "5.0"
        ],
        [
         "1",
         "00018f77f2f0320c557190d7a144bdd3",
         "4.0"
        ],
        [
         "2",
         "000229ec398224ef6ca0657da4fc703e",
         "5.0"
        ],
        [
         "3",
         "00024acbcdf0a6daa1e931b038114c75",
         "4.0"
        ],
        [
         "4",
         "00042b26cf59d7ce69dfabb4e55b4fd9",
         "5.0"
        ]
       ],
       "shape": {
        "columns": 2,
        "rows": 5
       }
      },
      "text/html": [
       "<div>\n",
       "<style scoped>\n",
       "    .dataframe tbody tr th:only-of-type {\n",
       "        vertical-align: middle;\n",
       "    }\n",
       "\n",
       "    .dataframe tbody tr th {\n",
       "        vertical-align: top;\n",
       "    }\n",
       "\n",
       "    .dataframe thead th {\n",
       "        text-align: right;\n",
       "    }\n",
       "</style>\n",
       "<table border=\"1\" class=\"dataframe\">\n",
       "  <thead>\n",
       "    <tr style=\"text-align: right;\">\n",
       "      <th></th>\n",
       "      <th>order_id</th>\n",
       "      <th>average_review_score</th>\n",
       "    </tr>\n",
       "  </thead>\n",
       "  <tbody>\n",
       "    <tr>\n",
       "      <th>0</th>\n",
       "      <td>00010242fe8c5a6d1ba2dd792cb16214</td>\n",
       "      <td>5.0</td>\n",
       "    </tr>\n",
       "    <tr>\n",
       "      <th>1</th>\n",
       "      <td>00018f77f2f0320c557190d7a144bdd3</td>\n",
       "      <td>4.0</td>\n",
       "    </tr>\n",
       "    <tr>\n",
       "      <th>2</th>\n",
       "      <td>000229ec398224ef6ca0657da4fc703e</td>\n",
       "      <td>5.0</td>\n",
       "    </tr>\n",
       "    <tr>\n",
       "      <th>3</th>\n",
       "      <td>00024acbcdf0a6daa1e931b038114c75</td>\n",
       "      <td>4.0</td>\n",
       "    </tr>\n",
       "    <tr>\n",
       "      <th>4</th>\n",
       "      <td>00042b26cf59d7ce69dfabb4e55b4fd9</td>\n",
       "      <td>5.0</td>\n",
       "    </tr>\n",
       "  </tbody>\n",
       "</table>\n",
       "</div>"
      ],
      "text/plain": [
       "                           order_id  average_review_score\n",
       "0  00010242fe8c5a6d1ba2dd792cb16214                   5.0\n",
       "1  00018f77f2f0320c557190d7a144bdd3                   4.0\n",
       "2  000229ec398224ef6ca0657da4fc703e                   5.0\n",
       "3  00024acbcdf0a6daa1e931b038114c75                   4.0\n",
       "4  00042b26cf59d7ce69dfabb4e55b4fd9                   5.0"
      ]
     },
     "execution_count": 9,
     "metadata": {},
     "output_type": "execute_result"
    }
   ],
   "source": [
    "# Convert to review_answer_timestamp to datetime\n",
    "order_reviews[\"review_answer_timestamp\"] = pd.to_datetime(order_reviews[\"review_answer_timestamp\"])\n",
    "# Find latest timestamp per order_id\n",
    "# Returns a Series with the same index and shape as the original\n",
    "# .transform(\"max\") returns a Series aligned to the original DataFrame index.\n",
    "latest_ts = order_reviews.groupby(\"order_id\")[\"review_answer_timestamp\"].transform(\"max\")\n",
    "# Filter to only rows with that timestamp\n",
    "latest_reviews = order_reviews[order_reviews[\"review_answer_timestamp\"] == latest_ts]\n",
    "# Compute mean review_score per order_id\n",
    "latest_review_scores = latest_reviews.groupby(\"order_id\")[\"review_score\"].mean().reset_index()\n",
    "# Rename it to average_review_score\n",
    "latest_review_scores.rename(columns={\n",
    "    \"review_score\": \"average_review_score\"\n",
    "}, inplace=True)\n",
    "\n",
    "print(latest_review_scores.shape)\n",
    "latest_review_scores.head()"
   ]
  },
  {
   "cell_type": "code",
   "execution_count": 10,
   "id": "424edf35",
   "metadata": {},
   "outputs": [
    {
     "name": "stdout",
     "output_type": "stream",
     "text": [
      "(112650, 7)\n",
      "(99441, 8)\n",
      "(112650, 20)\n"
     ]
    },
    {
     "data": {
      "application/vnd.microsoft.datawrangler.viewer.v0+json": {
       "columns": [
        {
         "name": "index",
         "rawType": "int64",
         "type": "integer"
        },
        {
         "name": "order_id",
         "rawType": "object",
         "type": "string"
        },
        {
         "name": "order_item_id",
         "rawType": "int64",
         "type": "integer"
        },
        {
         "name": "product_id",
         "rawType": "object",
         "type": "string"
        },
        {
         "name": "seller_id",
         "rawType": "object",
         "type": "string"
        },
        {
         "name": "shipping_limit_date",
         "rawType": "object",
         "type": "string"
        },
        {
         "name": "price",
         "rawType": "float64",
         "type": "float"
        },
        {
         "name": "freight_value",
         "rawType": "float64",
         "type": "float"
        },
        {
         "name": "customer_id",
         "rawType": "object",
         "type": "string"
        },
        {
         "name": "order_status",
         "rawType": "object",
         "type": "string"
        },
        {
         "name": "order_purchase_timestamp",
         "rawType": "object",
         "type": "string"
        },
        {
         "name": "order_approved_at",
         "rawType": "object",
         "type": "string"
        },
        {
         "name": "order_delivered_carrier_date",
         "rawType": "object",
         "type": "string"
        },
        {
         "name": "order_delivered_customer_date",
         "rawType": "object",
         "type": "string"
        },
        {
         "name": "order_estimated_delivery_date",
         "rawType": "object",
         "type": "string"
        },
        {
         "name": "customer_key",
         "rawType": "int64",
         "type": "integer"
        },
        {
         "name": "seller_key",
         "rawType": "int64",
         "type": "integer"
        },
        {
         "name": "product_key",
         "rawType": "int64",
         "type": "integer"
        },
        {
         "name": "total_payment_value",
         "rawType": "float64",
         "type": "float"
        },
        {
         "name": "payment_installments",
         "rawType": "float64",
         "type": "float"
        },
        {
         "name": "average_review_score",
         "rawType": "float64",
         "type": "float"
        }
       ],
       "ref": "1302f733-311f-4a9d-84bc-2dbabc2a5312",
       "rows": [
        [
         "0",
         "00010242fe8c5a6d1ba2dd792cb16214",
         "1",
         "4244733e06e7ecb4970a6e2683c13e61",
         "48436dade18ac8b2bce089ec2a041202",
         "2017-09-19 09:45:35",
         "58.9",
         "13.29",
         "3ce436f183e68e07877b285a838db11a",
         "delivered",
         "2017-09-13 08:59:02",
         "2017-09-13 09:45:35",
         "2017-09-19 18:34:16",
         "2017-09-20 23:43:48",
         "2017-09-29 00:00:00",
         "65558",
         "514",
         "25866",
         "72.19",
         "2.0",
         "5.0"
        ],
        [
         "1",
         "00018f77f2f0320c557190d7a144bdd3",
         "1",
         "e5f2d52b802189ee658865ca93d83a8f",
         "dd7ddc04e1b6c2c614352b383efe2d36",
         "2017-05-03 11:05:13",
         "239.9",
         "19.93",
         "f6dd3ec061db4e3987629fe6b26e5cce",
         "delivered",
         "2017-04-26 10:53:06",
         "2017-04-26 11:05:13",
         "2017-05-04 14:35:00",
         "2017-05-12 16:04:24",
         "2017-05-15 00:00:00",
         "34266",
         "472",
         "27231",
         "259.83",
         "3.0",
         "4.0"
        ],
        [
         "2",
         "000229ec398224ef6ca0657da4fc703e",
         "1",
         "c777355d18b72b67abbeef9df44fd0fd",
         "5b51032eddd242adc84c38acab88f23d",
         "2018-01-18 14:48:30",
         "199.0",
         "17.87",
         "6489ae5e4333f3693df5ad4372dab6d3",
         "delivered",
         "2018-01-14 14:33:31",
         "2018-01-14 14:48:30",
         "2018-01-16 12:36:48",
         "2018-01-22 13:19:16",
         "2018-02-05 00:00:00",
         "34956",
         "1825",
         "22625",
         "216.87",
         "5.0",
         "5.0"
        ],
        [
         "3",
         "00024acbcdf0a6daa1e931b038114c75",
         "1",
         "7634da152a4610f1595efa32f14722fc",
         "9d7a1d34a5052409006425275ba1c2b4",
         "2018-08-15 10:10:18",
         "12.99",
         "12.79",
         "d4eb9395c8c0431ee92fce09860c5a06",
         "delivered",
         "2018-08-08 10:00:35",
         "2018-08-08 10:10:18",
         "2018-08-10 13:28:00",
         "2018-08-14 13:32:39",
         "2018-08-20 00:00:00",
         "51764",
         "2024",
         "15404",
         "25.78",
         "2.0",
         "4.0"
        ],
        [
         "4",
         "00042b26cf59d7ce69dfabb4e55b4fd9",
         "1",
         "ac6c3623068f30de03045865e4e10089",
         "df560393f3a51e74553ab94004ba5c87",
         "2017-02-13 13:57:51",
         "199.9",
         "18.14",
         "58dbd0b2d70206bf40e62cd34e84d795",
         "delivered",
         "2017-02-04 13:57:51",
         "2017-02-04 14:10:13",
         "2017-02-16 09:46:09",
         "2017-03-01 16:42:31",
         "2017-03-17 00:00:00",
         "7603",
         "1598",
         "8863",
         "218.04",
         "3.0",
         "5.0"
        ]
       ],
       "shape": {
        "columns": 20,
        "rows": 5
       }
      },
      "text/html": [
       "<div>\n",
       "<style scoped>\n",
       "    .dataframe tbody tr th:only-of-type {\n",
       "        vertical-align: middle;\n",
       "    }\n",
       "\n",
       "    .dataframe tbody tr th {\n",
       "        vertical-align: top;\n",
       "    }\n",
       "\n",
       "    .dataframe thead th {\n",
       "        text-align: right;\n",
       "    }\n",
       "</style>\n",
       "<table border=\"1\" class=\"dataframe\">\n",
       "  <thead>\n",
       "    <tr style=\"text-align: right;\">\n",
       "      <th></th>\n",
       "      <th>order_id</th>\n",
       "      <th>order_item_id</th>\n",
       "      <th>product_id</th>\n",
       "      <th>seller_id</th>\n",
       "      <th>shipping_limit_date</th>\n",
       "      <th>price</th>\n",
       "      <th>freight_value</th>\n",
       "      <th>customer_id</th>\n",
       "      <th>order_status</th>\n",
       "      <th>order_purchase_timestamp</th>\n",
       "      <th>order_approved_at</th>\n",
       "      <th>order_delivered_carrier_date</th>\n",
       "      <th>order_delivered_customer_date</th>\n",
       "      <th>order_estimated_delivery_date</th>\n",
       "      <th>customer_key</th>\n",
       "      <th>seller_key</th>\n",
       "      <th>product_key</th>\n",
       "      <th>total_payment_value</th>\n",
       "      <th>payment_installments</th>\n",
       "      <th>average_review_score</th>\n",
       "    </tr>\n",
       "  </thead>\n",
       "  <tbody>\n",
       "    <tr>\n",
       "      <th>0</th>\n",
       "      <td>00010242fe8c5a6d1ba2dd792cb16214</td>\n",
       "      <td>1</td>\n",
       "      <td>4244733e06e7ecb4970a6e2683c13e61</td>\n",
       "      <td>48436dade18ac8b2bce089ec2a041202</td>\n",
       "      <td>2017-09-19 09:45:35</td>\n",
       "      <td>58.90</td>\n",
       "      <td>13.29</td>\n",
       "      <td>3ce436f183e68e07877b285a838db11a</td>\n",
       "      <td>delivered</td>\n",
       "      <td>2017-09-13 08:59:02</td>\n",
       "      <td>2017-09-13 09:45:35</td>\n",
       "      <td>2017-09-19 18:34:16</td>\n",
       "      <td>2017-09-20 23:43:48</td>\n",
       "      <td>2017-09-29 00:00:00</td>\n",
       "      <td>65558</td>\n",
       "      <td>514</td>\n",
       "      <td>25866</td>\n",
       "      <td>72.19</td>\n",
       "      <td>2.0</td>\n",
       "      <td>5.0</td>\n",
       "    </tr>\n",
       "    <tr>\n",
       "      <th>1</th>\n",
       "      <td>00018f77f2f0320c557190d7a144bdd3</td>\n",
       "      <td>1</td>\n",
       "      <td>e5f2d52b802189ee658865ca93d83a8f</td>\n",
       "      <td>dd7ddc04e1b6c2c614352b383efe2d36</td>\n",
       "      <td>2017-05-03 11:05:13</td>\n",
       "      <td>239.90</td>\n",
       "      <td>19.93</td>\n",
       "      <td>f6dd3ec061db4e3987629fe6b26e5cce</td>\n",
       "      <td>delivered</td>\n",
       "      <td>2017-04-26 10:53:06</td>\n",
       "      <td>2017-04-26 11:05:13</td>\n",
       "      <td>2017-05-04 14:35:00</td>\n",
       "      <td>2017-05-12 16:04:24</td>\n",
       "      <td>2017-05-15 00:00:00</td>\n",
       "      <td>34266</td>\n",
       "      <td>472</td>\n",
       "      <td>27231</td>\n",
       "      <td>259.83</td>\n",
       "      <td>3.0</td>\n",
       "      <td>4.0</td>\n",
       "    </tr>\n",
       "    <tr>\n",
       "      <th>2</th>\n",
       "      <td>000229ec398224ef6ca0657da4fc703e</td>\n",
       "      <td>1</td>\n",
       "      <td>c777355d18b72b67abbeef9df44fd0fd</td>\n",
       "      <td>5b51032eddd242adc84c38acab88f23d</td>\n",
       "      <td>2018-01-18 14:48:30</td>\n",
       "      <td>199.00</td>\n",
       "      <td>17.87</td>\n",
       "      <td>6489ae5e4333f3693df5ad4372dab6d3</td>\n",
       "      <td>delivered</td>\n",
       "      <td>2018-01-14 14:33:31</td>\n",
       "      <td>2018-01-14 14:48:30</td>\n",
       "      <td>2018-01-16 12:36:48</td>\n",
       "      <td>2018-01-22 13:19:16</td>\n",
       "      <td>2018-02-05 00:00:00</td>\n",
       "      <td>34956</td>\n",
       "      <td>1825</td>\n",
       "      <td>22625</td>\n",
       "      <td>216.87</td>\n",
       "      <td>5.0</td>\n",
       "      <td>5.0</td>\n",
       "    </tr>\n",
       "    <tr>\n",
       "      <th>3</th>\n",
       "      <td>00024acbcdf0a6daa1e931b038114c75</td>\n",
       "      <td>1</td>\n",
       "      <td>7634da152a4610f1595efa32f14722fc</td>\n",
       "      <td>9d7a1d34a5052409006425275ba1c2b4</td>\n",
       "      <td>2018-08-15 10:10:18</td>\n",
       "      <td>12.99</td>\n",
       "      <td>12.79</td>\n",
       "      <td>d4eb9395c8c0431ee92fce09860c5a06</td>\n",
       "      <td>delivered</td>\n",
       "      <td>2018-08-08 10:00:35</td>\n",
       "      <td>2018-08-08 10:10:18</td>\n",
       "      <td>2018-08-10 13:28:00</td>\n",
       "      <td>2018-08-14 13:32:39</td>\n",
       "      <td>2018-08-20 00:00:00</td>\n",
       "      <td>51764</td>\n",
       "      <td>2024</td>\n",
       "      <td>15404</td>\n",
       "      <td>25.78</td>\n",
       "      <td>2.0</td>\n",
       "      <td>4.0</td>\n",
       "    </tr>\n",
       "    <tr>\n",
       "      <th>4</th>\n",
       "      <td>00042b26cf59d7ce69dfabb4e55b4fd9</td>\n",
       "      <td>1</td>\n",
       "      <td>ac6c3623068f30de03045865e4e10089</td>\n",
       "      <td>df560393f3a51e74553ab94004ba5c87</td>\n",
       "      <td>2017-02-13 13:57:51</td>\n",
       "      <td>199.90</td>\n",
       "      <td>18.14</td>\n",
       "      <td>58dbd0b2d70206bf40e62cd34e84d795</td>\n",
       "      <td>delivered</td>\n",
       "      <td>2017-02-04 13:57:51</td>\n",
       "      <td>2017-02-04 14:10:13</td>\n",
       "      <td>2017-02-16 09:46:09</td>\n",
       "      <td>2017-03-01 16:42:31</td>\n",
       "      <td>2017-03-17 00:00:00</td>\n",
       "      <td>7603</td>\n",
       "      <td>1598</td>\n",
       "      <td>8863</td>\n",
       "      <td>218.04</td>\n",
       "      <td>3.0</td>\n",
       "      <td>5.0</td>\n",
       "    </tr>\n",
       "  </tbody>\n",
       "</table>\n",
       "</div>"
      ],
      "text/plain": [
       "                           order_id  order_item_id  \\\n",
       "0  00010242fe8c5a6d1ba2dd792cb16214              1   \n",
       "1  00018f77f2f0320c557190d7a144bdd3              1   \n",
       "2  000229ec398224ef6ca0657da4fc703e              1   \n",
       "3  00024acbcdf0a6daa1e931b038114c75              1   \n",
       "4  00042b26cf59d7ce69dfabb4e55b4fd9              1   \n",
       "\n",
       "                         product_id                         seller_id  \\\n",
       "0  4244733e06e7ecb4970a6e2683c13e61  48436dade18ac8b2bce089ec2a041202   \n",
       "1  e5f2d52b802189ee658865ca93d83a8f  dd7ddc04e1b6c2c614352b383efe2d36   \n",
       "2  c777355d18b72b67abbeef9df44fd0fd  5b51032eddd242adc84c38acab88f23d   \n",
       "3  7634da152a4610f1595efa32f14722fc  9d7a1d34a5052409006425275ba1c2b4   \n",
       "4  ac6c3623068f30de03045865e4e10089  df560393f3a51e74553ab94004ba5c87   \n",
       "\n",
       "   shipping_limit_date   price  freight_value  \\\n",
       "0  2017-09-19 09:45:35   58.90          13.29   \n",
       "1  2017-05-03 11:05:13  239.90          19.93   \n",
       "2  2018-01-18 14:48:30  199.00          17.87   \n",
       "3  2018-08-15 10:10:18   12.99          12.79   \n",
       "4  2017-02-13 13:57:51  199.90          18.14   \n",
       "\n",
       "                        customer_id order_status order_purchase_timestamp  \\\n",
       "0  3ce436f183e68e07877b285a838db11a    delivered      2017-09-13 08:59:02   \n",
       "1  f6dd3ec061db4e3987629fe6b26e5cce    delivered      2017-04-26 10:53:06   \n",
       "2  6489ae5e4333f3693df5ad4372dab6d3    delivered      2018-01-14 14:33:31   \n",
       "3  d4eb9395c8c0431ee92fce09860c5a06    delivered      2018-08-08 10:00:35   \n",
       "4  58dbd0b2d70206bf40e62cd34e84d795    delivered      2017-02-04 13:57:51   \n",
       "\n",
       "     order_approved_at order_delivered_carrier_date  \\\n",
       "0  2017-09-13 09:45:35          2017-09-19 18:34:16   \n",
       "1  2017-04-26 11:05:13          2017-05-04 14:35:00   \n",
       "2  2018-01-14 14:48:30          2018-01-16 12:36:48   \n",
       "3  2018-08-08 10:10:18          2018-08-10 13:28:00   \n",
       "4  2017-02-04 14:10:13          2017-02-16 09:46:09   \n",
       "\n",
       "  order_delivered_customer_date order_estimated_delivery_date  customer_key  \\\n",
       "0           2017-09-20 23:43:48           2017-09-29 00:00:00         65558   \n",
       "1           2017-05-12 16:04:24           2017-05-15 00:00:00         34266   \n",
       "2           2018-01-22 13:19:16           2018-02-05 00:00:00         34956   \n",
       "3           2018-08-14 13:32:39           2018-08-20 00:00:00         51764   \n",
       "4           2017-03-01 16:42:31           2017-03-17 00:00:00          7603   \n",
       "\n",
       "   seller_key  product_key  total_payment_value  payment_installments  \\\n",
       "0         514        25866                72.19                   2.0   \n",
       "1         472        27231               259.83                   3.0   \n",
       "2        1825        22625               216.87                   5.0   \n",
       "3        2024        15404                25.78                   2.0   \n",
       "4        1598         8863               218.04                   3.0   \n",
       "\n",
       "   average_review_score  \n",
       "0                   5.0  \n",
       "1                   4.0  \n",
       "2                   5.0  \n",
       "3                   4.0  \n",
       "4                   5.0  "
      ]
     },
     "execution_count": 10,
     "metadata": {},
     "output_type": "execute_result"
    }
   ],
   "source": [
    "# Start with order_items\n",
    "fact_order_items = order_items.copy()\n",
    "# Join with orders to get customer_id and order datetimes\n",
    "fact_order_items = fact_order_items.merge(\n",
    "    orders, on=\"order_id\", how=\"left\"\n",
    ")\n",
    "# Add customer surrogate key\n",
    "fact_order_items = fact_order_items.merge(\n",
    "    dim_customers[[\"customer_id\", \"customer_key\"]], on=\"customer_id\", how=\"left\"\n",
    ")\n",
    "# Add seller surrogate key\n",
    "fact_order_items = fact_order_items.merge(\n",
    "    dim_sellers[[\"seller_id\", \"seller_key\"]], on=\"seller_id\", how=\"left\"\n",
    ")\n",
    "# Add products surrogate key\n",
    "fact_order_items = fact_order_items.merge(\n",
    "    dim_products[[\"product_id\", \"product_key\"]], on=\"product_id\", how=\"left\"\n",
    ")\n",
    "# Add payments aggregated info\n",
    "fact_order_items = fact_order_items.merge(\n",
    "    payments_agg, on=\"order_id\", how=\"left\"\n",
    ")\n",
    "# Add average review score\n",
    "fact_order_items = fact_order_items.merge(\n",
    "    latest_review_scores, on=\"order_id\", how=\"left\"\n",
    ")\n",
    "\n",
    "print(order_items.shape)\n",
    "print(orders.shape)\n",
    "print(fact_order_items.shape)\n",
    "fact_order_items.head()"
   ]
  },
  {
   "cell_type": "code",
   "execution_count": null,
   "id": "f4267fa7",
   "metadata": {},
   "outputs": [],
   "source": [
    "# Reorder columns and drop redundant ones"
   ]
  }
 ],
 "metadata": {
  "kernelspec": {
   "display_name": "brazilian-ecommerce",
   "language": "python",
   "name": "python3"
  },
  "language_info": {
   "codemirror_mode": {
    "name": "ipython",
    "version": 3
   },
   "file_extension": ".py",
   "mimetype": "text/x-python",
   "name": "python",
   "nbconvert_exporter": "python",
   "pygments_lexer": "ipython3",
   "version": "3.12.11"
  }
 },
 "nbformat": 4,
 "nbformat_minor": 5
}
